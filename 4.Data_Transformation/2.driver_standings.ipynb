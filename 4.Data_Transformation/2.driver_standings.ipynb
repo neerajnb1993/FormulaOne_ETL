{
 "cells": [
  {
   "cell_type": "code",
   "execution_count": 1,
   "id": "f2c2af44",
   "metadata": {
    "ExecuteTime": {
     "end_time": "2022-06-14T04:00:49.290718Z",
     "start_time": "2022-06-14T04:00:49.184921Z"
    }
   },
   "outputs": [],
   "source": [
    "import findspark\n",
    "findspark.init()\n",
    "from pyspark.sql import SparkSession\n",
    "from pyspark.sql.window import Window\n",
    "from pyspark.sql.functions import col, lit, current_timestamp, concat, desc, asc, rank, when, count, sum\n",
    "from pyspark.sql.types import StructType, StructField, IntegerType, DoubleType, StringType\n",
    "from config_file import transformed_path"
   ]
  },
  {
   "cell_type": "code",
   "execution_count": 2,
   "id": "f48c2926",
   "metadata": {
    "ExecuteTime": {
     "end_time": "2022-06-14T04:00:54.044540Z",
     "start_time": "2022-06-14T04:00:49.292906Z"
    }
   },
   "outputs": [
    {
     "data": {
      "text/html": [
       "\n",
       "            <div>\n",
       "                <p><b>SparkSession - in-memory</b></p>\n",
       "                \n",
       "        <div>\n",
       "            <p><b>SparkContext</b></p>\n",
       "\n",
       "            <p><a href=\"http://DESKTOP-248N5FB:4049\">Spark UI</a></p>\n",
       "\n",
       "            <dl>\n",
       "              <dt>Version</dt>\n",
       "                <dd><code>v3.0.3</code></dd>\n",
       "              <dt>Master</dt>\n",
       "                <dd><code>local[*]</code></dd>\n",
       "              <dt>AppName</dt>\n",
       "                <dd><code>ETL</code></dd>\n",
       "            </dl>\n",
       "        </div>\n",
       "        \n",
       "            </div>\n",
       "        "
      ],
      "text/plain": [
       "<pyspark.sql.session.SparkSession at 0x20abe7d3e80>"
      ]
     },
     "execution_count": 2,
     "metadata": {},
     "output_type": "execute_result"
    }
   ],
   "source": [
    "spark = SparkSession.builder.appName('ETL').getOrCreate()\n",
    "spark"
   ]
  },
  {
   "cell_type": "markdown",
   "id": "68665195",
   "metadata": {},
   "source": [
    "### Read Transformed Dataframe"
   ]
  },
  {
   "cell_type": "code",
   "execution_count": 3,
   "id": "9ae2a25e",
   "metadata": {
    "ExecuteTime": {
     "end_time": "2022-06-14T04:00:57.265755Z",
     "start_time": "2022-06-14T04:00:54.047500Z"
    }
   },
   "outputs": [
    {
     "name": "stdout",
     "output_type": "stream",
     "text": [
      "+---------+--------------------+-------------------+----------------+--------------------+-------------+------------------+--------+----+-----------+-----------+------+--------+--------------------+\n",
      "|race_Year|           race_Name|          race_Date|circuit_Location|         driver_Name|driver_Number|driver_Nationality|    team|grid|  race_Time|fastest_Lap|points|position|        created_Date|\n",
      "+---------+--------------------+-------------------+----------------+--------------------+-------------+------------------+--------+----+-----------+-----------+------+--------+--------------------+\n",
      "|     2005|Australian Grand ...|2005-03-06 14:00:00|       Melbourne|   Christijan Albers|            0|             Dutch| Minardi|  17|         \\N|         11|   0.0|    null|2022-06-13 18:28:...|\n",
      "|     2005|Australian Grand ...|2005-03-06 14:00:00|       Melbourne|       Nick Heidfeld|            0|            German|Williams|   7|         \\N|         38|   0.0|    null|2022-06-13 18:28:...|\n",
      "|     2005|Australian Grand ...|2005-03-06 14:00:00|       Melbourne|  Michael Schumacher|            0|            German| Ferrari|  19|         \\N|         38|   0.0|    null|2022-06-13 18:28:...|\n",
      "|     2005|Australian Grand ...|2005-03-06 14:00:00|       Melbourne|  Patrick Friesacher|            0|          Austrian| Minardi|  16|         \\N|         22|   0.0|      17|2022-06-13 18:28:...|\n",
      "|     2005|Australian Grand ...|2005-03-06 14:00:00|       Melbourne|      Tiago Monteiro|            0|        Portuguese|  Jordan|  14|         \\N|         16|   0.0|      16|2022-06-13 18:28:...|\n",
      "|     2005|Australian Grand ...|2005-03-06 14:00:00|       Melbourne|  Narain Karthikeyan|            0|            Indian|  Jordan|  12|         \\N|         36|   0.0|      15|2022-06-13 18:28:...|\n",
      "|     2005|Australian Grand ...|2005-03-06 14:00:00|       Melbourne|         Takuma Sato|            0|          Japanese|     BAR|  20|         \\N|         36|   0.0|    null|2022-06-13 18:28:...|\n",
      "|     2005|Australian Grand ...|2005-03-06 14:00:00|       Melbourne|  Jacques Villeneuve|            0|          Canadian|  Sauber|   4|         \\N|         54|   0.0|      13|2022-06-13 18:28:...|\n",
      "|     2005|Australian Grand ...|2005-03-06 14:00:00|       Melbourne|     Ralf Schumacher|            0|            German|  Toyota|  15|         \\N|         56|   0.0|      12|2022-06-13 18:28:...|\n",
      "|     2005|Australian Grand ...|2005-03-06 14:00:00|       Melbourne|       Jenson Button|           22|           British|     BAR|   8|         \\N|         55|   0.0|    null|2022-06-13 18:28:...|\n",
      "|     2005|Australian Grand ...|2005-03-06 14:00:00|       Melbourne|        Felipe Massa|           19|         Brazilian|  Sauber|  18|  +1:04.393|         55|   0.0|      10|2022-06-13 18:28:...|\n",
      "|     2005|Australian Grand ...|2005-03-06 14:00:00|       Melbourne|        Jarno Trulli|            0|           Italian|  Toyota|   2|  +1:03.108|         56|   0.0|       9|2022-06-13 18:28:...|\n",
      "|     2005|Australian Grand ...|2005-03-06 14:00:00|       Melbourne|      Kimi Räikkönen|            7|           Finnish| McLaren|  10|    +39.633|         55|   1.0|       8|2022-06-13 18:28:...|\n",
      "|     2005|Australian Grand ...|2005-03-06 14:00:00|       Melbourne|     Christian Klien|            0|          Austrian|Red Bull|   6|    +38.997|         39|   2.0|       7|2022-06-13 18:28:...|\n",
      "|     2005|Australian Grand ...|2005-03-06 14:00:00|       Melbourne|  Juan Pablo Montoya|            0|         Colombian| McLaren|   9|    +35.033|         41|   3.0|       6|2022-06-13 18:28:...|\n",
      "|     2005|Australian Grand ...|2005-03-06 14:00:00|       Melbourne|         Mark Webber|            0|        Australian|Williams|   3|    +16.908|         37|   4.0|       5|2022-06-13 18:28:...|\n",
      "|     2005|Australian Grand ...|2005-03-06 14:00:00|       Melbourne|     David Coulthard|            0|           British|Red Bull|   5|    +16.131|         40|   5.0|       4|2022-06-13 18:28:...|\n",
      "|     2005|Australian Grand ...|2005-03-06 14:00:00|       Melbourne|     Fernando Alonso|           14|           Spanish| Renault|  13|     +6.712|         24|   6.0|       3|2022-06-13 18:28:...|\n",
      "|     2005|Australian Grand ...|2005-03-06 14:00:00|       Melbourne|  Rubens Barrichello|            0|         Brazilian| Ferrari|  11|     +5.553|         54|   8.0|       2|2022-06-13 18:28:...|\n",
      "|     2005|Australian Grand ...|2005-03-06 14:00:00|       Melbourne|Giancarlo Fisichella|            0|           Italian| Renault|   1|1:24:17.336|         55|  10.0|       1|2022-06-13 18:28:...|\n",
      "+---------+--------------------+-------------------+----------------+--------------------+-------------+------------------+--------+----+-----------+-----------+------+--------+--------------------+\n",
      "only showing top 20 rows\n",
      "\n"
     ]
    }
   ],
   "source": [
    "race_results_df = spark.read.parquet(f\"{transformed_path}\\Race_Results\")\n",
    "race_results_df.show()"
   ]
  },
  {
   "cell_type": "code",
   "execution_count": 4,
   "id": "69e3dd92",
   "metadata": {
    "ExecuteTime": {
     "end_time": "2022-06-14T04:00:57.470305Z",
     "start_time": "2022-06-14T04:00:57.267723Z"
    }
   },
   "outputs": [],
   "source": [
    "race_results_df = race_results_df.na.fill(value=0,subset=[\"points\"])"
   ]
  },
  {
   "cell_type": "markdown",
   "id": "62ed8d24",
   "metadata": {},
   "source": [
    "## Driver Standings"
   ]
  },
  {
   "cell_type": "code",
   "execution_count": 5,
   "id": "6514b5f3",
   "metadata": {
    "ExecuteTime": {
     "end_time": "2022-06-14T04:00:57.564675Z",
     "start_time": "2022-06-14T04:00:57.471306Z"
    }
   },
   "outputs": [],
   "source": [
    "driver_standing_df = race_results_df.groupBy('race_Year','driver_Name','driver_Nationality','team')\\\n",
    ".agg(sum('points').alias('total_Points'),count(when(col('position')==1,True)).alias('wins'))"
   ]
  },
  {
   "cell_type": "code",
   "execution_count": 6,
   "id": "1692fad1",
   "metadata": {
    "ExecuteTime": {
     "end_time": "2022-06-14T04:00:58.918242Z",
     "start_time": "2022-06-14T04:00:57.566482Z"
    }
   },
   "outputs": [
    {
     "name": "stdout",
     "output_type": "stream",
     "text": [
      "+---------+------------------+------------------+------------+------------+----+\n",
      "|race_Year|       driver_Name|driver_Nationality|        team|total_Points|wins|\n",
      "+---------+------------------+------------------+------------+------------+----+\n",
      "|     2020|    Lewis Hamilton|           British|    Mercedes|       347.0|  11|\n",
      "|     2020|   Valtteri Bottas|           Finnish|    Mercedes|       223.0|   2|\n",
      "|     2020|    Max Verstappen|             Dutch|    Red Bull|       214.0|   2|\n",
      "|     2020|      Sergio Pérez|           Mexican|Racing Point|       125.0|   1|\n",
      "|     2020|  Daniel Ricciardo|        Australian|     Renault|       119.0|   0|\n",
      "|     2020|      Carlos Sainz|           Spanish|     McLaren|       105.0|   0|\n",
      "|     2020|   Alexander Albon|              Thai|    Red Bull|       105.0|   0|\n",
      "|     2020|   Charles Leclerc|        Monegasque|     Ferrari|        98.0|   0|\n",
      "|     2020|      Lando Norris|           British|     McLaren|        97.0|   0|\n",
      "|     2020|      Pierre Gasly|            French|  AlphaTauri|        75.0|   1|\n",
      "|     2020|      Lance Stroll|          Canadian|Racing Point|        75.0|   0|\n",
      "|     2020|      Esteban Ocon|            French|     Renault|        62.0|   0|\n",
      "|     2020|  Sebastian Vettel|            German|     Ferrari|        33.0|   0|\n",
      "|     2020|      Daniil Kvyat|           Russian|  AlphaTauri|        32.0|   0|\n",
      "|     2020|   Nico Hülkenberg|            German|Racing Point|        10.0|   0|\n",
      "|     2020|    Kimi Räikkönen|           Finnish|  Alfa Romeo|         4.0|   0|\n",
      "|     2020|Antonio Giovinazzi|           Italian|  Alfa Romeo|         4.0|   0|\n",
      "|     2020|    George Russell|           British|    Mercedes|         3.0|   0|\n",
      "|     2020|   Romain Grosjean|            French|Haas F1 Team|         2.0|   0|\n",
      "|     2020|   Kevin Magnussen|            Danish|Haas F1 Team|         1.0|   0|\n",
      "+---------+------------------+------------------+------------+------------+----+\n",
      "only showing top 20 rows\n",
      "\n"
     ]
    }
   ],
   "source": [
    "driver_standing_df.filter(\"race_Year==2020\").orderBy(col('total_Points').desc()).show()"
   ]
  },
  {
   "cell_type": "code",
   "execution_count": 7,
   "id": "278b8cb1",
   "metadata": {
    "ExecuteTime": {
     "end_time": "2022-06-14T04:35:26.229786Z",
     "start_time": "2022-06-14T04:35:26.138242Z"
    }
   },
   "outputs": [],
   "source": [
    "window_cmd = Window.partitionBy('race_Year').orderBy(desc('total_points'),desc('wins'))\n",
    "driver_standing_df = driver_standing_df.withColumn('rank',rank().over(window_cmd))"
   ]
  },
  {
   "cell_type": "code",
   "execution_count": 9,
   "id": "bd6b3878",
   "metadata": {
    "ExecuteTime": {
     "end_time": "2022-06-14T04:36:08.781300Z",
     "start_time": "2022-06-14T04:36:07.324698Z"
    }
   },
   "outputs": [
    {
     "name": "stdout",
     "output_type": "stream",
     "text": [
      "+---------+------------------+------------------+------------+------------+----+----+\n",
      "|race_Year|       driver_Name|driver_Nationality|        team|total_Points|wins|rank|\n",
      "+---------+------------------+------------------+------------+------------+----+----+\n",
      "|     2020|    Lewis Hamilton|           British|    Mercedes|       347.0|  11|   1|\n",
      "|     2020|   Valtteri Bottas|           Finnish|    Mercedes|       223.0|   2|   2|\n",
      "|     2020|    Max Verstappen|             Dutch|    Red Bull|       214.0|   2|   3|\n",
      "|     2020|      Sergio Pérez|           Mexican|Racing Point|       125.0|   1|   4|\n",
      "|     2020|  Daniel Ricciardo|        Australian|     Renault|       119.0|   0|   5|\n",
      "|     2020|      Carlos Sainz|           Spanish|     McLaren|       105.0|   0|   6|\n",
      "|     2020|   Alexander Albon|              Thai|    Red Bull|       105.0|   0|   6|\n",
      "|     2020|   Charles Leclerc|        Monegasque|     Ferrari|        98.0|   0|   8|\n",
      "|     2020|      Lando Norris|           British|     McLaren|        97.0|   0|   9|\n",
      "|     2020|      Pierre Gasly|            French|  AlphaTauri|        75.0|   1|  10|\n",
      "|     2020|      Lance Stroll|          Canadian|Racing Point|        75.0|   0|  11|\n",
      "|     2020|      Esteban Ocon|            French|     Renault|        62.0|   0|  12|\n",
      "|     2020|  Sebastian Vettel|            German|     Ferrari|        33.0|   0|  13|\n",
      "|     2020|      Daniil Kvyat|           Russian|  AlphaTauri|        32.0|   0|  14|\n",
      "|     2020|   Nico Hülkenberg|            German|Racing Point|        10.0|   0|  15|\n",
      "|     2020|Antonio Giovinazzi|           Italian|  Alfa Romeo|         4.0|   0|  16|\n",
      "|     2020|    Kimi Räikkönen|           Finnish|  Alfa Romeo|         4.0|   0|  16|\n",
      "|     2020|    George Russell|           British|    Mercedes|         3.0|   0|  18|\n",
      "|     2020|   Romain Grosjean|            French|Haas F1 Team|         2.0|   0|  19|\n",
      "|     2020|   Kevin Magnussen|            Danish|Haas F1 Team|         1.0|   0|  20|\n",
      "+---------+------------------+------------------+------------+------------+----+----+\n",
      "only showing top 20 rows\n",
      "\n"
     ]
    }
   ],
   "source": [
    "driver_standing_df.filter('race_Year==2020').show()"
   ]
  },
  {
   "cell_type": "code",
   "execution_count": 8,
   "id": "af521cfb",
   "metadata": {
    "ExecuteTime": {
     "end_time": "2022-06-14T04:35:36.050365Z",
     "start_time": "2022-06-14T04:35:27.619277Z"
    }
   },
   "outputs": [],
   "source": [
    "driver_standing_df.write.mode('overwrite').parquet(f\"{transformed_path}\\Driver_Standings\")"
   ]
  },
  {
   "cell_type": "code",
   "execution_count": null,
   "id": "418bc908",
   "metadata": {},
   "outputs": [],
   "source": []
  }
 ],
 "metadata": {
  "kernelspec": {
   "display_name": "Python 3 (ipykernel)",
   "language": "python",
   "name": "python3"
  },
  "language_info": {
   "codemirror_mode": {
    "name": "ipython",
    "version": 3
   },
   "file_extension": ".py",
   "mimetype": "text/x-python",
   "name": "python",
   "nbconvert_exporter": "python",
   "pygments_lexer": "ipython3",
   "version": "3.9.7"
  }
 },
 "nbformat": 4,
 "nbformat_minor": 5
}
