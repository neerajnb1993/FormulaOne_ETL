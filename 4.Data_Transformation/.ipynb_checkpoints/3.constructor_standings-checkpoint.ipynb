{
 "cells": [
  {
   "cell_type": "code",
   "execution_count": 1,
   "id": "ec1b5141",
   "metadata": {
    "ExecuteTime": {
     "end_time": "2022-06-14T03:59:28.887825Z",
     "start_time": "2022-06-14T03:59:28.798352Z"
    }
   },
   "outputs": [],
   "source": [
    "import findspark\n",
    "findspark.init()\n",
    "from pyspark.sql import SparkSession\n",
    "from pyspark.sql.window import Window\n",
    "from pyspark.sql.functions import col, lit, current_timestamp, concat, desc, asc, rank, when, count, sum\n",
    "from pyspark.sql.types import StructType, StructField, IntegerType, DoubleType, StringType\n",
    "from config_file import transformed_path"
   ]
  },
  {
   "cell_type": "code",
   "execution_count": 2,
   "id": "fa6bb560",
   "metadata": {
    "ExecuteTime": {
     "end_time": "2022-06-14T03:59:33.854871Z",
     "start_time": "2022-06-14T03:59:28.888307Z"
    }
   },
   "outputs": [
    {
     "data": {
      "text/html": [
       "\n",
       "            <div>\n",
       "                <p><b>SparkSession - in-memory</b></p>\n",
       "                \n",
       "        <div>\n",
       "            <p><b>SparkContext</b></p>\n",
       "\n",
       "            <p><a href=\"http://DESKTOP-248N5FB:4051\">Spark UI</a></p>\n",
       "\n",
       "            <dl>\n",
       "              <dt>Version</dt>\n",
       "                <dd><code>v3.0.3</code></dd>\n",
       "              <dt>Master</dt>\n",
       "                <dd><code>local[*]</code></dd>\n",
       "              <dt>AppName</dt>\n",
       "                <dd><code>ETL</code></dd>\n",
       "            </dl>\n",
       "        </div>\n",
       "        \n",
       "            </div>\n",
       "        "
      ],
      "text/plain": [
       "<pyspark.sql.session.SparkSession at 0x19e64ecabe0>"
      ]
     },
     "execution_count": 2,
     "metadata": {},
     "output_type": "execute_result"
    }
   ],
   "source": [
    "spark = SparkSession.builder.appName('ETL').getOrCreate()\n",
    "spark"
   ]
  },
  {
   "cell_type": "markdown",
   "id": "4c1dad7c",
   "metadata": {},
   "source": [
    "### Read Transformed Dataframe"
   ]
  },
  {
   "cell_type": "code",
   "execution_count": 3,
   "id": "12a7dd18",
   "metadata": {
    "ExecuteTime": {
     "end_time": "2022-06-14T03:59:37.163499Z",
     "start_time": "2022-06-14T03:59:33.854871Z"
    }
   },
   "outputs": [
    {
     "name": "stdout",
     "output_type": "stream",
     "text": [
      "+---------+--------------------+-------------------+----------------+--------------------+-------------+------------------+--------+----+-----------+-----------+------+--------+--------------------+\n",
      "|race_Year|           race_Name|          race_Date|circuit_Location|         driver_Name|driver_Number|driver_Nationality|    team|grid|  race_Time|fastest_Lap|points|position|        created_Date|\n",
      "+---------+--------------------+-------------------+----------------+--------------------+-------------+------------------+--------+----+-----------+-----------+------+--------+--------------------+\n",
      "|     2005|Australian Grand ...|2005-03-06 14:00:00|       Melbourne|   Christijan Albers|            0|             Dutch| Minardi|  17|         \\N|         11|   0.0|    null|2022-06-13 18:28:...|\n",
      "|     2005|Australian Grand ...|2005-03-06 14:00:00|       Melbourne|       Nick Heidfeld|            0|            German|Williams|   7|         \\N|         38|   0.0|    null|2022-06-13 18:28:...|\n",
      "|     2005|Australian Grand ...|2005-03-06 14:00:00|       Melbourne|  Michael Schumacher|            0|            German| Ferrari|  19|         \\N|         38|   0.0|    null|2022-06-13 18:28:...|\n",
      "|     2005|Australian Grand ...|2005-03-06 14:00:00|       Melbourne|  Patrick Friesacher|            0|          Austrian| Minardi|  16|         \\N|         22|   0.0|      17|2022-06-13 18:28:...|\n",
      "|     2005|Australian Grand ...|2005-03-06 14:00:00|       Melbourne|      Tiago Monteiro|            0|        Portuguese|  Jordan|  14|         \\N|         16|   0.0|      16|2022-06-13 18:28:...|\n",
      "|     2005|Australian Grand ...|2005-03-06 14:00:00|       Melbourne|  Narain Karthikeyan|            0|            Indian|  Jordan|  12|         \\N|         36|   0.0|      15|2022-06-13 18:28:...|\n",
      "|     2005|Australian Grand ...|2005-03-06 14:00:00|       Melbourne|         Takuma Sato|            0|          Japanese|     BAR|  20|         \\N|         36|   0.0|    null|2022-06-13 18:28:...|\n",
      "|     2005|Australian Grand ...|2005-03-06 14:00:00|       Melbourne|  Jacques Villeneuve|            0|          Canadian|  Sauber|   4|         \\N|         54|   0.0|      13|2022-06-13 18:28:...|\n",
      "|     2005|Australian Grand ...|2005-03-06 14:00:00|       Melbourne|     Ralf Schumacher|            0|            German|  Toyota|  15|         \\N|         56|   0.0|      12|2022-06-13 18:28:...|\n",
      "|     2005|Australian Grand ...|2005-03-06 14:00:00|       Melbourne|       Jenson Button|           22|           British|     BAR|   8|         \\N|         55|   0.0|    null|2022-06-13 18:28:...|\n",
      "|     2005|Australian Grand ...|2005-03-06 14:00:00|       Melbourne|        Felipe Massa|           19|         Brazilian|  Sauber|  18|  +1:04.393|         55|   0.0|      10|2022-06-13 18:28:...|\n",
      "|     2005|Australian Grand ...|2005-03-06 14:00:00|       Melbourne|        Jarno Trulli|            0|           Italian|  Toyota|   2|  +1:03.108|         56|   0.0|       9|2022-06-13 18:28:...|\n",
      "|     2005|Australian Grand ...|2005-03-06 14:00:00|       Melbourne|      Kimi Räikkönen|            7|           Finnish| McLaren|  10|    +39.633|         55|   1.0|       8|2022-06-13 18:28:...|\n",
      "|     2005|Australian Grand ...|2005-03-06 14:00:00|       Melbourne|     Christian Klien|            0|          Austrian|Red Bull|   6|    +38.997|         39|   2.0|       7|2022-06-13 18:28:...|\n",
      "|     2005|Australian Grand ...|2005-03-06 14:00:00|       Melbourne|  Juan Pablo Montoya|            0|         Colombian| McLaren|   9|    +35.033|         41|   3.0|       6|2022-06-13 18:28:...|\n",
      "|     2005|Australian Grand ...|2005-03-06 14:00:00|       Melbourne|         Mark Webber|            0|        Australian|Williams|   3|    +16.908|         37|   4.0|       5|2022-06-13 18:28:...|\n",
      "|     2005|Australian Grand ...|2005-03-06 14:00:00|       Melbourne|     David Coulthard|            0|           British|Red Bull|   5|    +16.131|         40|   5.0|       4|2022-06-13 18:28:...|\n",
      "|     2005|Australian Grand ...|2005-03-06 14:00:00|       Melbourne|     Fernando Alonso|           14|           Spanish| Renault|  13|     +6.712|         24|   6.0|       3|2022-06-13 18:28:...|\n",
      "|     2005|Australian Grand ...|2005-03-06 14:00:00|       Melbourne|  Rubens Barrichello|            0|         Brazilian| Ferrari|  11|     +5.553|         54|   8.0|       2|2022-06-13 18:28:...|\n",
      "|     2005|Australian Grand ...|2005-03-06 14:00:00|       Melbourne|Giancarlo Fisichella|            0|           Italian| Renault|   1|1:24:17.336|         55|  10.0|       1|2022-06-13 18:28:...|\n",
      "+---------+--------------------+-------------------+----------------+--------------------+-------------+------------------+--------+----+-----------+-----------+------+--------+--------------------+\n",
      "only showing top 20 rows\n",
      "\n"
     ]
    }
   ],
   "source": [
    "race_results_df = spark.read.parquet(f\"{transformed_path}\\Race_Results\")\n",
    "race_results_df.show()"
   ]
  },
  {
   "cell_type": "code",
   "execution_count": 4,
   "id": "154a60ea",
   "metadata": {
    "ExecuteTime": {
     "end_time": "2022-06-14T03:59:37.295399Z",
     "start_time": "2022-06-14T03:59:37.163499Z"
    }
   },
   "outputs": [],
   "source": [
    "race_results_df = race_results_df.na.fill(value=0,subset=[\"points\"])"
   ]
  },
  {
   "cell_type": "markdown",
   "id": "5fd1e7e7",
   "metadata": {},
   "source": [
    "## Constructor Standings"
   ]
  },
  {
   "cell_type": "code",
   "execution_count": 5,
   "id": "f13da525",
   "metadata": {
    "ExecuteTime": {
     "end_time": "2022-06-14T03:59:37.380194Z",
     "start_time": "2022-06-14T03:59:37.296968Z"
    }
   },
   "outputs": [],
   "source": [
    "constructor_standing_df = race_results_df.groupBy('race_Year','team')\\\n",
    ".agg(sum('points').alias('total_points'),count(when(col('position')==1,True)).alias('wins'))"
   ]
  },
  {
   "cell_type": "code",
   "execution_count": 6,
   "id": "b5121b7e",
   "metadata": {
    "ExecuteTime": {
     "end_time": "2022-06-14T03:59:38.659155Z",
     "start_time": "2022-06-14T03:59:37.380194Z"
    }
   },
   "outputs": [
    {
     "name": "stdout",
     "output_type": "stream",
     "text": [
      "+---------+------------+------------+----+\n",
      "|race_Year|        team|total_points|wins|\n",
      "+---------+------------+------------+----+\n",
      "|     2020|    Mercedes|       573.0|  13|\n",
      "|     2020|    Red Bull|       319.0|   2|\n",
      "|     2020|Racing Point|       210.0|   1|\n",
      "|     2020|     McLaren|       202.0|   0|\n",
      "|     2020|     Renault|       181.0|   0|\n",
      "|     2020|     Ferrari|       131.0|   0|\n",
      "|     2020|  AlphaTauri|       107.0|   1|\n",
      "|     2020|  Alfa Romeo|         8.0|   0|\n",
      "|     2020|Haas F1 Team|         3.0|   0|\n",
      "|     2020|    Williams|         0.0|   0|\n",
      "+---------+------------+------------+----+\n",
      "\n"
     ]
    }
   ],
   "source": [
    "constructor_standing_df.filter(\"race_Year==2020\").orderBy(col('total_points').desc()).show()"
   ]
  },
  {
   "cell_type": "code",
   "execution_count": 8,
   "id": "016c40b9",
   "metadata": {
    "ExecuteTime": {
     "end_time": "2022-06-14T04:26:47.240326Z",
     "start_time": "2022-06-14T04:26:47.152845Z"
    }
   },
   "outputs": [],
   "source": [
    "window_cmd = Window.partitionBy('race_Year').orderBy(desc('total_points'),desc('wins'))\n",
    "constructor_standing_df = constructor_standing_df.withColumn('rank',rank().over(window_cmd))"
   ]
  },
  {
   "cell_type": "code",
   "execution_count": 9,
   "id": "e5367227",
   "metadata": {
    "ExecuteTime": {
     "end_time": "2022-06-14T04:27:04.190703Z",
     "start_time": "2022-06-14T04:27:01.358397Z"
    }
   },
   "outputs": [
    {
     "name": "stdout",
     "output_type": "stream",
     "text": [
      "+---------+---------------+------------+----+----+\n",
      "|race_Year|           team|total_points|wins|rank|\n",
      "+---------+---------------+------------+----+----+\n",
      "|     1959|  Cooper-Climax|        97.5|   5|   1|\n",
      "|     1959|        Ferrari|        67.0|   2|   2|\n",
      "|     1959|            BRM|        22.5|   1|   3|\n",
      "|     1959|         Watson|        14.0|   1|   4|\n",
      "|     1959|       Lesovsky|         5.0|   0|   5|\n",
      "|     1959|     Team Lotus|         5.0|   0|   5|\n",
      "|     1959|        Epperly|         5.0|   0|   5|\n",
      "|     1959|         Sutton|         0.0|   0|   8|\n",
      "|     1959|            Fry|         0.0|   0|   8|\n",
      "|     1959|       Maserati|         0.0|   0|   8|\n",
      "|     1959|          Elder|         0.0|   0|   8|\n",
      "|     1959|   Kurtis Kraft|         0.0|   0|   8|\n",
      "|     1959|        Tec-Mec|         0.0|   0|   8|\n",
      "|     1959|        Porsche|         0.0|   0|   8|\n",
      "|     1959|      Connaught|         0.0|   0|   8|\n",
      "|     1959|Cooper-Borgward|         0.0|   0|   8|\n",
      "|     1959|    Cooper-OSCA|         0.0|   0|   8|\n",
      "|     1959|   Aston Martin|         0.0|   0|   8|\n",
      "|     1959|Cooper-Maserati|         0.0|   0|   8|\n",
      "|     1959|    Christensen|         0.0|   0|   8|\n",
      "+---------+---------------+------------+----+----+\n",
      "only showing top 20 rows\n",
      "\n"
     ]
    }
   ],
   "source": [
    "constructor_standing_df.show()"
   ]
  },
  {
   "cell_type": "code",
   "execution_count": 10,
   "id": "1854c26f",
   "metadata": {
    "ExecuteTime": {
     "end_time": "2022-06-14T04:33:22.861786Z",
     "start_time": "2022-06-14T04:33:15.733453Z"
    }
   },
   "outputs": [],
   "source": [
    "constructor_standing_df.write.mode('overwrite').parquet(f\"{transformed_path}\\Constructor_Standings\")"
   ]
  },
  {
   "cell_type": "code",
   "execution_count": null,
   "id": "564002df",
   "metadata": {},
   "outputs": [],
   "source": []
  }
 ],
 "metadata": {
  "kernelspec": {
   "display_name": "Python 3 (ipykernel)",
   "language": "python",
   "name": "python3"
  },
  "language_info": {
   "codemirror_mode": {
    "name": "ipython",
    "version": 3
   },
   "file_extension": ".py",
   "mimetype": "text/x-python",
   "name": "python",
   "nbconvert_exporter": "python",
   "pygments_lexer": "ipython3",
   "version": "3.9.7"
  }
 },
 "nbformat": 4,
 "nbformat_minor": 5
}
