{
 "cells": [
  {
   "cell_type": "code",
   "execution_count": 1,
   "id": "8549f0b4",
   "metadata": {
    "ExecuteTime": {
     "end_time": "2022-06-13T12:56:51.394173Z",
     "start_time": "2022-06-13T12:56:51.269514Z"
    }
   },
   "outputs": [],
   "source": [
    "import findspark\n",
    "findspark.init()\n",
    "from pyspark.sql import SparkSession\n",
    "from pyspark.sql.functions import col, lit, current_timestamp, concat\n",
    "from pyspark.sql.types import StructType, StructField, IntegerType, DoubleType, StringType\n",
    "from config_file import processed_path, transformed_path"
   ]
  },
  {
   "cell_type": "code",
   "execution_count": 2,
   "id": "68ac5bc8",
   "metadata": {
    "ExecuteTime": {
     "end_time": "2022-06-13T12:56:58.362231Z",
     "start_time": "2022-06-13T12:56:51.394173Z"
    }
   },
   "outputs": [
    {
     "data": {
      "text/html": [
       "\n",
       "            <div>\n",
       "                <p><b>SparkSession - in-memory</b></p>\n",
       "                \n",
       "        <div>\n",
       "            <p><b>SparkContext</b></p>\n",
       "\n",
       "            <p><a href=\"http://DESKTOP-248N5FB:4050\">Spark UI</a></p>\n",
       "\n",
       "            <dl>\n",
       "              <dt>Version</dt>\n",
       "                <dd><code>v3.0.3</code></dd>\n",
       "              <dt>Master</dt>\n",
       "                <dd><code>local[*]</code></dd>\n",
       "              <dt>AppName</dt>\n",
       "                <dd><code>ETL</code></dd>\n",
       "            </dl>\n",
       "        </div>\n",
       "        \n",
       "            </div>\n",
       "        "
      ],
      "text/plain": [
       "<pyspark.sql.session.SparkSession at 0x1eb98da4d60>"
      ]
     },
     "execution_count": 2,
     "metadata": {},
     "output_type": "execute_result"
    }
   ],
   "source": [
    "spark = SparkSession.builder.appName('ETL').getOrCreate()\n",
    "spark"
   ]
  },
  {
   "cell_type": "markdown",
   "id": "df88a5e2",
   "metadata": {},
   "source": [
    "## Read all the processed files"
   ]
  },
  {
   "cell_type": "markdown",
   "id": "b4eb1116",
   "metadata": {},
   "source": [
    "### 1. Read Circuit processed file"
   ]
  },
  {
   "cell_type": "code",
   "execution_count": 3,
   "id": "f4887fbb",
   "metadata": {
    "ExecuteTime": {
     "end_time": "2022-06-13T12:57:03.293104Z",
     "start_time": "2022-06-13T12:56:58.367065Z"
    }
   },
   "outputs": [
    {
     "name": "stdout",
     "output_type": "stream",
     "text": [
      "+----------+--------------+--------------------+----------------+---------+--------+---------+--------+--------------------+\n",
      "|circuit_Id|   circuit_Ref|                name|circuit_Location|  country|latitude|longitude|altitude|      ingestion_Date|\n",
      "+----------+--------------+--------------------+----------------+---------+--------+---------+--------+--------------------+\n",
      "|         1|   albert_park|Albert Park Grand...|       Melbourne|Australia|-37.8497|  144.968|      10|2022-06-13 10:08:...|\n",
      "|         2|        sepang|Sepang Internatio...|    Kuala Lumpur| Malaysia| 2.76083|  101.738|      18|2022-06-13 10:08:...|\n",
      "|         3|       bahrain|Bahrain Internati...|          Sakhir|  Bahrain| 26.0325|  50.5106|       7|2022-06-13 10:08:...|\n",
      "|         4|     catalunya|Circuit de Barcel...|        Montmeló|    Spain|   41.57|  2.26111|     109|2022-06-13 10:08:...|\n",
      "|         5|      istanbul|       Istanbul Park|        Istanbul|   Turkey| 40.9517|   29.405|     130|2022-06-13 10:08:...|\n",
      "|         6|        monaco|   Circuit de Monaco|     Monte-Carlo|   Monaco| 43.7347|  7.42056|       7|2022-06-13 10:08:...|\n",
      "|         7|    villeneuve|Circuit Gilles Vi...|        Montreal|   Canada|    45.5| -73.5228|      13|2022-06-13 10:08:...|\n",
      "|         8|   magny_cours|Circuit de Nevers...|     Magny Cours|   France| 46.8642|  3.16361|     228|2022-06-13 10:08:...|\n",
      "|         9|   silverstone| Silverstone Circuit|     Silverstone|       UK| 52.0786| -1.01694|     153|2022-06-13 10:08:...|\n",
      "|        10|hockenheimring|      Hockenheimring|      Hockenheim|  Germany| 49.3278|  8.56583|     103|2022-06-13 10:08:...|\n",
      "|        11|   hungaroring|         Hungaroring|        Budapest|  Hungary| 47.5789|  19.2486|     264|2022-06-13 10:08:...|\n",
      "|        12|      valencia|Valencia Street C...|        Valencia|    Spain| 39.4589|-0.331667|       4|2022-06-13 10:08:...|\n",
      "|        13|           spa|Circuit de Spa-Fr...|             Spa|  Belgium| 50.4372|  5.97139|     401|2022-06-13 10:08:...|\n",
      "|        14|         monza|Autodromo Naziona...|           Monza|    Italy| 45.6156|  9.28111|     162|2022-06-13 10:08:...|\n",
      "|        15|    marina_bay|Marina Bay Street...|      Marina Bay|Singapore|  1.2914|  103.864|      18|2022-06-13 10:08:...|\n",
      "|        16|          fuji|       Fuji Speedway|           Oyama|    Japan| 35.3717|  138.927|     583|2022-06-13 10:08:...|\n",
      "|        17|      shanghai|Shanghai Internat...|        Shanghai|    China| 31.3389|   121.22|       5|2022-06-13 10:08:...|\n",
      "|        18|    interlagos|Autódromo José Ca...|       São Paulo|   Brazil|-23.7036| -46.6997|     785|2022-06-13 10:08:...|\n",
      "|        19|  indianapolis|Indianapolis Moto...|    Indianapolis|      USA|  39.795| -86.2347|     223|2022-06-13 10:08:...|\n",
      "|        20|   nurburgring|         Nürburgring|         Nürburg|  Germany| 50.3356|   6.9475|     578|2022-06-13 10:08:...|\n",
      "+----------+--------------+--------------------+----------------+---------+--------+---------+--------+--------------------+\n",
      "only showing top 20 rows\n",
      "\n"
     ]
    }
   ],
   "source": [
    "circuits_df = spark.read.parquet(f\"{processed_path}\\Circuits\").withColumnRenamed('location','circuit_Location')\n",
    "circuits_df.show()"
   ]
  },
  {
   "cell_type": "markdown",
   "id": "3a799898",
   "metadata": {},
   "source": [
    "### 2. Read Race processed file"
   ]
  },
  {
   "cell_type": "code",
   "execution_count": 4,
   "id": "45597e35",
   "metadata": {
    "ExecuteTime": {
     "end_time": "2022-06-13T12:57:04.139089Z",
     "start_time": "2022-06-13T12:57:03.293104Z"
    }
   },
   "outputs": [
    {
     "name": "stdout",
     "output_type": "stream",
     "text": [
      "+-------+-----+----------+--------------------+-------------------+--------------------+---------+\n",
      "|race_Id|round|circuit_Id|           race_Name|          race_Date|      ingestion_Date|race_Year|\n",
      "+-------+-----+----------+--------------------+-------------------+--------------------+---------+\n",
      "|   1053|    2|        21|Emilia Romagna Gr...|2021-04-18 13:00:00|2022-06-13 10:54:...|     2021|\n",
      "|   1052|    1|         3|  Bahrain Grand Prix|2021-03-28 15:00:00|2022-06-13 10:54:...|     2021|\n",
      "|   1051|   21|         1|Australian Grand ...|2021-11-21 06:00:00|2022-06-13 10:54:...|     2021|\n",
      "|   1054|    3|        20|                 TBC|               null|2022-06-13 10:54:...|     2021|\n",
      "|   1055|    4|         4|  Spanish Grand Prix|2021-05-09 13:00:00|2022-06-13 10:54:...|     2021|\n",
      "|   1056|    5|         6|   Monaco Grand Prix|2021-05-23 13:00:00|2022-06-13 10:54:...|     2021|\n",
      "|   1057|    6|        73|Azerbaijan Grand ...|2021-06-06 12:00:00|2022-06-13 10:54:...|     2021|\n",
      "|   1058|    7|         7| Canadian Grand Prix|2021-06-13 18:00:00|2022-06-13 10:54:...|     2021|\n",
      "|   1059|    8|        34|   French Grand Prix|2021-06-27 13:00:00|2022-06-13 10:54:...|     2021|\n",
      "|   1060|    9|        70| Austrian Grand Prix|2021-07-04 13:00:00|2022-06-13 10:54:...|     2021|\n",
      "|   1061|   10|         9|  British Grand Prix|2021-07-18 14:00:00|2022-06-13 10:54:...|     2021|\n",
      "|   1062|   11|        11|Hungarian Grand Prix|2021-08-01 13:00:00|2022-06-13 10:54:...|     2021|\n",
      "|   1063|   12|        13|  Belgian Grand Prix|2021-08-29 13:00:00|2022-06-13 10:54:...|     2021|\n",
      "|   1064|   13|        39|    Dutch Grand Prix|2021-09-05 13:00:00|2022-06-13 10:54:...|     2021|\n",
      "|   1065|   14|        14|  Italian Grand Prix|2021-09-12 13:00:00|2022-06-13 10:54:...|     2021|\n",
      "|   1066|   15|        71|  Russian Grand Prix|2021-09-26 12:00:00|2022-06-13 10:54:...|     2021|\n",
      "|   1067|   16|        15|Singapore Grand Prix|2021-10-03 12:00:00|2022-06-13 10:54:...|     2021|\n",
      "|   1068|   17|        22| Japanese Grand Prix|2021-10-10 05:00:00|2022-06-13 10:54:...|     2021|\n",
      "|   1069|   18|        69|United States Gra...|2021-10-24 19:00:00|2022-06-13 10:54:...|     2021|\n",
      "|   1070|   19|        32|Mexico City Grand...|2021-10-31 19:00:00|2022-06-13 10:54:...|     2021|\n",
      "+-------+-----+----------+--------------------+-------------------+--------------------+---------+\n",
      "only showing top 20 rows\n",
      "\n"
     ]
    }
   ],
   "source": [
    "race_df = spark.read.parquet(f\"{processed_path}\\Race\").withColumnRenamed('name','race_Name').withColumnRenamed('race_Timestamp','race_Date')\n",
    "race_df.show()"
   ]
  },
  {
   "cell_type": "markdown",
   "id": "5a623f6f",
   "metadata": {},
   "source": [
    "### 3. Read Drivers processed file"
   ]
  },
  {
   "cell_type": "code",
   "execution_count": 5,
   "id": "b228a055",
   "metadata": {
    "ExecuteTime": {
     "end_time": "2022-06-13T12:57:04.611440Z",
     "start_time": "2022-06-13T12:57:04.139896Z"
    }
   },
   "outputs": [
    {
     "name": "stdout",
     "output_type": "stream",
     "text": [
      "+---------+----------+----------+----+-------------+------------------+--------------------+------------------+\n",
      "|driver_Id|driver_Ref|       dob|code|driver_Number|driver_Nationality|      ingestion_Date|       driver_Name|\n",
      "+---------+----------+----------+----+-------------+------------------+--------------------+------------------+\n",
      "|        1|  hamilton|1985-01-07| HAM|           44|           British|2022-06-13 10:35:...|    Lewis Hamilton|\n",
      "|        2|  heidfeld|1977-05-10| HEI|            0|            German|2022-06-13 10:35:...|     Nick Heidfeld|\n",
      "|        3|   rosberg|1985-06-27| ROS|            6|            German|2022-06-13 10:35:...|      Nico Rosberg|\n",
      "|        4|    alonso|1981-07-29| ALO|           14|           Spanish|2022-06-13 10:35:...|   Fernando Alonso|\n",
      "|        5|kovalainen|1981-10-19| KOV|            0|           Finnish|2022-06-13 10:35:...| Heikki Kovalainen|\n",
      "|        6|  nakajima|1985-01-11| NAK|            0|          Japanese|2022-06-13 10:35:...|   Kazuki Nakajima|\n",
      "|        7|  bourdais|1979-02-28| BOU|            0|            French|2022-06-13 10:35:...|Sébastien Bourdais|\n",
      "|        8| raikkonen|1979-10-17| RAI|            7|           Finnish|2022-06-13 10:35:...|    Kimi Räikkönen|\n",
      "|        9|    kubica|1984-12-07| KUB|           88|            Polish|2022-06-13 10:35:...|     Robert Kubica|\n",
      "|       10|     glock|1982-03-18| GLO|            0|            German|2022-06-13 10:35:...|        Timo Glock|\n",
      "|       11|      sato|1977-01-28| SAT|            0|          Japanese|2022-06-13 10:35:...|       Takuma Sato|\n",
      "|       12| piquet_jr|1985-07-25| PIQ|            0|         Brazilian|2022-06-13 10:35:...| Nelson Piquet Jr.|\n",
      "|       13|     massa|1981-04-25| MAS|           19|         Brazilian|2022-06-13 10:35:...|      Felipe Massa|\n",
      "|       14| coulthard|1971-03-27| COU|            0|           British|2022-06-13 10:35:...|   David Coulthard|\n",
      "|       15|    trulli|1974-07-13| TRU|            0|           Italian|2022-06-13 10:35:...|      Jarno Trulli|\n",
      "|       16|     sutil|1983-01-11| SUT|           99|            German|2022-06-13 10:35:...|      Adrian Sutil|\n",
      "|       17|    webber|1976-08-27| WEB|            0|        Australian|2022-06-13 10:35:...|       Mark Webber|\n",
      "|       18|    button|1980-01-19| BUT|           22|           British|2022-06-13 10:35:...|     Jenson Button|\n",
      "|       19|  davidson|1979-04-18| DAV|            0|           British|2022-06-13 10:35:...|  Anthony Davidson|\n",
      "|       20|    vettel|1987-07-03| VET|            5|            German|2022-06-13 10:35:...|  Sebastian Vettel|\n",
      "+---------+----------+----------+----+-------------+------------------+--------------------+------------------+\n",
      "only showing top 20 rows\n",
      "\n"
     ]
    }
   ],
   "source": [
    "driver_df = spark.read.parquet(f\"{processed_path}\\Drivers\").withColumn('driver_Name',concat(col('first_Name'),lit(' '),col('last_Name')))\\\n",
    ".withColumnRenamed('number','driver_Number').withColumnRenamed('nationality','driver_Nationality')\n",
    "\n",
    "driver_df = driver_df.drop('first_Name','last_Name')\n",
    "driver_df.show()"
   ]
  },
  {
   "cell_type": "markdown",
   "id": "80efce1d",
   "metadata": {},
   "source": [
    "### 4. Read Constructors processed file"
   ]
  },
  {
   "cell_type": "code",
   "execution_count": 6,
   "id": "3b348b0f",
   "metadata": {
    "ExecuteTime": {
     "end_time": "2022-06-13T12:57:04.928383Z",
     "start_time": "2022-06-13T12:57:04.611666Z"
    }
   },
   "outputs": [
    {
     "name": "stdout",
     "output_type": "stream",
     "text": [
      "+--------------+---------------+-----------+-----------------------+--------------------+\n",
      "|constructor_Id|constructor_Ref|       team|constructor_Nationality|      ingestion_Date|\n",
      "+--------------+---------------+-----------+-----------------------+--------------------+\n",
      "|             1|        mclaren|    McLaren|                British|2022-06-13 10:14:...|\n",
      "|             2|     bmw_sauber| BMW Sauber|                 German|2022-06-13 10:14:...|\n",
      "|             3|       williams|   Williams|                British|2022-06-13 10:14:...|\n",
      "|             4|        renault|    Renault|                 French|2022-06-13 10:14:...|\n",
      "|             5|     toro_rosso| Toro Rosso|                Italian|2022-06-13 10:14:...|\n",
      "|             6|        ferrari|    Ferrari|                Italian|2022-06-13 10:14:...|\n",
      "|             7|         toyota|     Toyota|               Japanese|2022-06-13 10:14:...|\n",
      "|             8|    super_aguri|Super Aguri|               Japanese|2022-06-13 10:14:...|\n",
      "|             9|       red_bull|   Red Bull|               Austrian|2022-06-13 10:14:...|\n",
      "|            10|    force_india|Force India|                 Indian|2022-06-13 10:14:...|\n",
      "|            11|          honda|      Honda|               Japanese|2022-06-13 10:14:...|\n",
      "|            12|         spyker|     Spyker|                  Dutch|2022-06-13 10:14:...|\n",
      "|            13|            mf1|        MF1|                Russian|2022-06-13 10:14:...|\n",
      "|            14|     spyker_mf1| Spyker MF1|                  Dutch|2022-06-13 10:14:...|\n",
      "|            15|         sauber|     Sauber|                  Swiss|2022-06-13 10:14:...|\n",
      "|            16|            bar|        BAR|                British|2022-06-13 10:14:...|\n",
      "|            17|         jordan|     Jordan|                  Irish|2022-06-13 10:14:...|\n",
      "|            18|        minardi|    Minardi|                Italian|2022-06-13 10:14:...|\n",
      "|            19|         jaguar|     Jaguar|                British|2022-06-13 10:14:...|\n",
      "|            20|          prost|      Prost|                 French|2022-06-13 10:14:...|\n",
      "+--------------+---------------+-----------+-----------------------+--------------------+\n",
      "only showing top 20 rows\n",
      "\n"
     ]
    }
   ],
   "source": [
    "constructor_df = spark.read.parquet(f\"{processed_path}\\Constructors\").withColumnRenamed('name','team').withColumnRenamed('nationality','constructor_Nationality')\n",
    "constructor_df.show()"
   ]
  },
  {
   "cell_type": "markdown",
   "id": "498929b6",
   "metadata": {},
   "source": [
    "### 5. Read Results processed file"
   ]
  },
  {
   "cell_type": "code",
   "execution_count": 7,
   "id": "ac0d9680",
   "metadata": {
    "ExecuteTime": {
     "end_time": "2022-06-13T12:57:10.543307Z",
     "start_time": "2022-06-13T12:57:04.928383Z"
    }
   },
   "outputs": [
    {
     "name": "stdout",
     "output_type": "stream",
     "text": [
      "+--------------+---------+-----------+-----------------+----------------+----+----+------------+------+------+--------+--------------+-------------+----+---------+-----------+--------------------+-------+\n",
      "|constructor_Id|driver_Id|fastest_Lap|fastest_Lap_Speed|fastest_Lap_Time|grid|laps|milliseconds|number|points|position|position_Order|position_Text|rank|result_Id|  race_Time|      ingestion_Date|race_Id|\n",
      "+--------------+---------+-----------+-----------------+----------------+----+----+------------+------+------+--------+--------------+-------------+----+---------+-----------+--------------------+-------+\n",
      "|             1|       18|         52|              0.0|        1:36.568|   2|  53|     5453427|     4|  25.0|       1|             1|            1|   1|    21112|1:30:53.427|2022-06-13 10:52:...|    855|\n",
      "|             6|        4|         50|          216.481|        1:36.682|   5|  53|     5454587|     5|  18.0|       2|             2|            2|   4|    21113|     +1.160|2022-06-13 10:52:...|    855|\n",
      "|             9|       20|         52|          216.226|        1:36.916|   1|  53|     5455433|     1|  15.0|       3|             3|            3|   6|    21114|     +2.006|2022-06-13 10:52:...|    855|\n",
      "|             9|       17|         47|          215.704|        1:36.828|   6|  53|     5461498|     2|  12.0|       4|             4|            4|   5|    21115|     +8.071|2022-06-13 10:52:...|    855|\n",
      "|             1|        1|         49|            215.9|        1:37.645|   3|  53|     5477695|     3|  10.0|       5|             5|            5|   9|    21116|    +24.268|2022-06-13 10:52:...|    855|\n",
      "|           131|       30|         53|          214.093|        1:37.916|   8|  53|     5480547|     7|   8.0|       6|             6|            6|  12|    21117|    +27.120|2022-06-13 10:52:...|    855|\n",
      "|             6|       13|         50|          213.501|        1:37.800|   4|  53|     5481667|     6|   6.0|       7|             7|            7|  11|    21118|    +28.240|2022-06-13 10:52:...|    855|\n",
      "|            15|      815|         39|          213.754|        1:36.569|  17|  53|     5492804|    17|   4.0|       8|             8|            8|   2|    21119|    +39.377|2022-06-13 10:52:...|    855|\n",
      "|             4|      808|         47|          216.479|        1:37.053|  10|  53|     5496034|    10|   2.0|       9|             9|            9|   7|    21120|    +42.607|2022-06-13 10:52:...|    855|\n",
      "|           131|        3|         50|          215.399|        1:36.614|  23|  53|     5497749|     8|   1.0|      10|            10|           10|   3|    21121|    +44.322|2022-06-13 10:52:...|    855|\n",
      "|            10|       16|         43|          216.378|        1:38.133|  11|  53|     5507874|    14|   0.0|      11|            11|           11|  14|    21122|    +54.447|2022-06-13 10:52:...|    855|\n",
      "|            10|      814|         43|          213.029|        1:37.970|  12|  53|     5515753|    15|   0.0|      12|            12|           12|  13|    21123|  +1:02.326|2022-06-13 10:52:...|    855|\n",
      "|            15|      155|         44|          213.383|        1:39.724|   7|  53|     5517132|    16|   0.0|      13|            13|           13|  19|    21124|  +1:03.705|2022-06-13 10:52:...|    855|\n",
      "|             3|      813|         50|           209.63|        1:37.645|  14|  53|     5517621|    12|   0.0|      14|            14|           14|  10|    21125|  +1:04.194|2022-06-13 10:52:...|    855|\n",
      "|             5|      153|         41|          214.093|        1:37.411|  16|  53|     5520050|    19|   0.0|      15|            15|           15|   8|    21126|  +1:06.623|2022-06-13 10:52:...|    855|\n",
      "|             4|      811|         42|          214.608|        1:38.407|   9|  53|     5526055|     9|   0.0|      16|            16|           16|  15|    21127|  +1:12.628|2022-06-13 10:52:...|    855|\n",
      "|             3|       22|         53|          212.436|        1:39.080|  13|  53|     5527618|    11|   0.0|      17|            17|           17|  16|    21128|  +1:14.191|2022-06-13 10:52:...|    855|\n",
      "|           205|        5|         50|          210.993|        1:39.297|  18|  53|     5541251|    20|   0.0|      18|            18|           18|  17|    21129|  +1:27.824|2022-06-13 10:52:...|    855|\n",
      "|           205|       15|         49|          210.532|        1:39.561|  19|  53|     5549567|    21|   0.0|      19|            19|           19|  18|    21130|  +1:36.140|2022-06-13 10:52:...|    855|\n",
      "|           166|       10|         46|          209.973|        1:41.704|  21|  51|        null|    24|   0.0|      20|            20|           20|  21|    21131|         \\N|2022-06-13 10:52:...|    855|\n",
      "+--------------+---------+-----------+-----------------+----------------+----+----+------------+------+------+--------+--------------+-------------+----+---------+-----------+--------------------+-------+\n",
      "only showing top 20 rows\n",
      "\n"
     ]
    }
   ],
   "source": [
    "result_df = spark.read.parquet(f\"{processed_path}\\Results\").withColumnRenamed('time','race_Time')\n",
    "result_df.show()"
   ]
  },
  {
   "cell_type": "markdown",
   "id": "b20b58f6",
   "metadata": {},
   "source": [
    "## Transformations on the read data"
   ]
  },
  {
   "cell_type": "code",
   "execution_count": 8,
   "id": "e5635d18",
   "metadata": {
    "ExecuteTime": {
     "end_time": "2022-06-13T12:57:10.607741Z",
     "start_time": "2022-06-13T12:57:10.543307Z"
    }
   },
   "outputs": [],
   "source": [
    "### 1. Join Race and Circuits df\n",
    "\n",
    "race_circuit_df = race_df.join(circuits_df, race_df.circuit_Id==circuits_df.circuit_Id,'inner')"
   ]
  },
  {
   "cell_type": "code",
   "execution_count": 9,
   "id": "a106a825",
   "metadata": {
    "ExecuteTime": {
     "end_time": "2022-06-13T12:57:10.691318Z",
     "start_time": "2022-06-13T12:57:10.607741Z"
    }
   },
   "outputs": [],
   "source": [
    "### 2. Join Results df with all other df\n",
    "\n",
    "final_df = result_df.join(race_circuit_df, result_df.race_Id==race_circuit_df.race_Id,'inner')\\\n",
    "                        .join(driver_df, result_df.driver_Id==driver_df.driver_Id,'inner')\\\n",
    "                        .join(constructor_df, result_df.constructor_Id==constructor_df.constructor_Id,'inner')"
   ]
  },
  {
   "cell_type": "code",
   "execution_count": 11,
   "id": "9a4bd5e6",
   "metadata": {
    "ExecuteTime": {
     "end_time": "2022-06-13T12:58:16.262142Z",
     "start_time": "2022-06-13T12:58:16.184732Z"
    }
   },
   "outputs": [],
   "source": [
    "final_df = final_df.select('race_Year','race_Name','race_Date','circuit_Location','driver_Name','driver_Number','driver_Nationality','team','grid','race_Time','fastest_Lap','points','position')"
   ]
  },
  {
   "cell_type": "code",
   "execution_count": 12,
   "id": "a0a59210",
   "metadata": {
    "ExecuteTime": {
     "end_time": "2022-06-13T12:58:17.567937Z",
     "start_time": "2022-06-13T12:58:17.544248Z"
    }
   },
   "outputs": [],
   "source": [
    "final_df = final_df.withColumn('created_Date',current_timestamp())"
   ]
  },
  {
   "cell_type": "code",
   "execution_count": 13,
   "id": "4f25c786",
   "metadata": {
    "ExecuteTime": {
     "end_time": "2022-06-13T12:58:21.350650Z",
     "start_time": "2022-06-13T12:58:18.359762Z"
    }
   },
   "outputs": [
    {
     "name": "stdout",
     "output_type": "stream",
     "text": [
      "+---------+--------------------+-------------------+----------------+-----------------+-------------+------------------+------------+----+-----------+-----------+------+--------+--------------------+\n",
      "|race_Year|           race_Name|          race_Date|circuit_Location|      driver_Name|driver_Number|driver_Nationality|        team|grid|  race_Time|fastest_Lap|points|position|        created_Date|\n",
      "+---------+--------------------+-------------------+----------------+-----------------+-------------+------------------+------------+----+-----------+-----------+------+--------+--------------------+\n",
      "|     2018|Australian Grand ...|2018-03-25 05:10:00|       Melbourne|  Sergey Sirotkin|           35|           Russian|    Williams|  19|         \\N|          3|   0.0|    null|2022-06-13 18:28:...|\n",
      "|     2018|Australian Grand ...|2018-03-25 05:10:00|       Melbourne|  Marcus Ericsson|            9|           Swedish|      Sauber|  17|         \\N|          4|   0.0|    null|2022-06-13 18:28:...|\n",
      "|     2018|Australian Grand ...|2018-03-25 05:10:00|       Melbourne|     Pierre Gasly|           10|            French|  Toro Rosso|  20|         \\N|         13|   0.0|    null|2022-06-13 18:28:...|\n",
      "|     2018|Australian Grand ...|2018-03-25 05:10:00|       Melbourne|  Kevin Magnussen|           20|            Danish|Haas F1 Team|   5|         \\N|         21|   0.0|    null|2022-06-13 18:28:...|\n",
      "|     2018|Australian Grand ...|2018-03-25 05:10:00|       Melbourne|  Romain Grosjean|            8|            French|Haas F1 Team|   6|         \\N|         23|   0.0|    null|2022-06-13 18:28:...|\n",
      "|     2018|Australian Grand ...|2018-03-25 05:10:00|       Melbourne|  Brendon Hartley|           28|     New Zealander|  Toro Rosso|  16|         \\N|         57|   0.0|      15|2022-06-13 18:28:...|\n",
      "|     2018|Australian Grand ...|2018-03-25 05:10:00|       Melbourne|     Lance Stroll|           18|          Canadian|    Williams|  13|  +1:18.288|         55|   0.0|      14|2022-06-13 18:28:...|\n",
      "|     2018|Australian Grand ...|2018-03-25 05:10:00|       Melbourne|  Charles Leclerc|           16|        Monegasque|      Sauber|  18|  +1:15.759|         56|   0.0|      13|2022-06-13 18:28:...|\n",
      "|     2018|Australian Grand ...|2018-03-25 05:10:00|       Melbourne|     Esteban Ocon|           31|            French| Force India|  14|  +1:00.278|         57|   0.0|      12|2022-06-13 18:28:...|\n",
      "|     2018|Australian Grand ...|2018-03-25 05:10:00|       Melbourne|     Sergio Pérez|           11|           Mexican| Force India|  12|    +46.817|         51|   0.0|      11|2022-06-13 18:28:...|\n",
      "|     2018|Australian Grand ...|2018-03-25 05:10:00|       Melbourne|     Carlos Sainz|           55|           Spanish|     Renault|   9|    +45.722|         51|   1.0|      10|2022-06-13 18:28:...|\n",
      "|     2018|Australian Grand ...|2018-03-25 05:10:00|       Melbourne|Stoffel Vandoorne|            2|           Belgian|     McLaren|  11|    +34.921|         57|   2.0|       9|2022-06-13 18:28:...|\n",
      "|     2018|Australian Grand ...|2018-03-25 05:10:00|       Melbourne|  Valtteri Bottas|           77|           Finnish|    Mercedes|  15|    +34.339|         54|   4.0|       8|2022-06-13 18:28:...|\n",
      "|     2018|Australian Grand ...|2018-03-25 05:10:00|       Melbourne|  Nico Hülkenberg|           27|            German|     Renault|   7|    +32.671|         57|   6.0|       7|2022-06-13 18:28:...|\n",
      "|     2018|Australian Grand ...|2018-03-25 05:10:00|       Melbourne|   Max Verstappen|           33|             Dutch|    Red Bull|   4|    +28.945|         54|   8.0|       6|2022-06-13 18:28:...|\n",
      "|     2018|Australian Grand ...|2018-03-25 05:10:00|       Melbourne|  Fernando Alonso|           14|           Spanish|     McLaren|  10|    +27.886|         57|  10.0|       5|2022-06-13 18:28:...|\n",
      "|     2018|Australian Grand ...|2018-03-25 05:10:00|       Melbourne| Daniel Ricciardo|            3|        Australian|    Red Bull|   8|     +7.069|         54|  12.0|       4|2022-06-13 18:28:...|\n",
      "|     2018|Australian Grand ...|2018-03-25 05:10:00|       Melbourne|   Kimi Räikkönen|            7|           Finnish|     Ferrari|   2|     +6.309|         57|  15.0|       3|2022-06-13 18:28:...|\n",
      "|     2018|Australian Grand ...|2018-03-25 05:10:00|       Melbourne|   Lewis Hamilton|           44|           British|    Mercedes|   1|     +5.036|         50|  18.0|       2|2022-06-13 18:28:...|\n",
      "|     2018|Australian Grand ...|2018-03-25 05:10:00|       Melbourne| Sebastian Vettel|            5|            German|     Ferrari|   3|1:29:33.283|         53|  25.0|       1|2022-06-13 18:28:...|\n",
      "+---------+--------------------+-------------------+----------------+-----------------+-------------+------------------+------------+----+-----------+-----------+------+--------+--------------------+\n",
      "only showing top 20 rows\n",
      "\n"
     ]
    }
   ],
   "source": [
    "final_df.show()"
   ]
  },
  {
   "cell_type": "code",
   "execution_count": 14,
   "id": "1bc3ab25",
   "metadata": {
    "ExecuteTime": {
     "end_time": "2022-06-13T12:58:26.106607Z",
     "start_time": "2022-06-13T12:58:22.564780Z"
    }
   },
   "outputs": [],
   "source": [
    "final_df.write.mode('overwrite').parquet(f\"{transformed_path}\\Race_Results\")"
   ]
  },
  {
   "cell_type": "markdown",
   "id": "f2bad6a7",
   "metadata": {},
   "source": [
    "## Data Validation"
   ]
  },
  {
   "cell_type": "code",
   "execution_count": 15,
   "id": "11e6947b",
   "metadata": {
    "ExecuteTime": {
     "end_time": "2022-06-13T12:58:31.078655Z",
     "start_time": "2022-06-13T12:58:28.860446Z"
    }
   },
   "outputs": [
    {
     "name": "stdout",
     "output_type": "stream",
     "text": [
      "+---------+--------------------+-------------------+----------------+------------------+-------------+------------------+------------+----+-----------+-----------+------+--------+--------------------+\n",
      "|race_Year|           race_Name|          race_Date|circuit_Location|       driver_Name|driver_Number|driver_Nationality|        team|grid|  race_Time|fastest_Lap|points|position|        created_Date|\n",
      "+---------+--------------------+-------------------+----------------+------------------+-------------+------------------+------------+----+-----------+-----------+------+--------+--------------------+\n",
      "|     2020|Abu Dhabi Grand Prix|2020-12-13 13:10:00|       Abu Dhabi|    Max Verstappen|           33|             Dutch|    Red Bull|   1|1:36:28.645|         14|  25.0|       1|2022-06-13 18:28:...|\n",
      "|     2020|Abu Dhabi Grand Prix|2020-12-13 13:10:00|       Abu Dhabi|   Valtteri Bottas|           77|           Finnish|    Mercedes|   2|    +15.976|         40|  18.0|       2|2022-06-13 18:28:...|\n",
      "|     2020|Abu Dhabi Grand Prix|2020-12-13 13:10:00|       Abu Dhabi|    Lewis Hamilton|           44|           British|    Mercedes|   3|    +18.415|         37|  15.0|       3|2022-06-13 18:28:...|\n",
      "|     2020|Abu Dhabi Grand Prix|2020-12-13 13:10:00|       Abu Dhabi|   Alexander Albon|           23|              Thai|    Red Bull|   5|    +19.987|         42|  12.0|       4|2022-06-13 18:28:...|\n",
      "|     2020|Abu Dhabi Grand Prix|2020-12-13 13:10:00|       Abu Dhabi|      Lando Norris|            4|           British|     McLaren|   4|  +1:00.729|         53|  10.0|       5|2022-06-13 18:28:...|\n",
      "|     2020|Abu Dhabi Grand Prix|2020-12-13 13:10:00|       Abu Dhabi|      Carlos Sainz|           55|           Spanish|     McLaren|   6|  +1:05.662|         48|   8.0|       6|2022-06-13 18:28:...|\n",
      "|     2020|Abu Dhabi Grand Prix|2020-12-13 13:10:00|       Abu Dhabi|  Daniel Ricciardo|            3|        Australian|     Renault|  11|  +1:13.748|         55|   7.0|       7|2022-06-13 18:28:...|\n",
      "|     2020|Abu Dhabi Grand Prix|2020-12-13 13:10:00|       Abu Dhabi|      Pierre Gasly|           10|            French|  AlphaTauri|   9|  +1:29.718|         53|   4.0|       8|2022-06-13 18:28:...|\n",
      "|     2020|Abu Dhabi Grand Prix|2020-12-13 13:10:00|       Abu Dhabi|      Esteban Ocon|           31|            French|     Renault|  10|  +1:41.069|         47|   2.0|       9|2022-06-13 18:28:...|\n",
      "|     2020|Abu Dhabi Grand Prix|2020-12-13 13:10:00|       Abu Dhabi|      Lance Stroll|           18|          Canadian|Racing Point|   8|  +1:42.738|         41|   1.0|      10|2022-06-13 18:28:...|\n",
      "|     2020|Abu Dhabi Grand Prix|2020-12-13 13:10:00|       Abu Dhabi|      Sergio Pérez|           11|           Mexican|Racing Point|  19|         \\N|          6|   0.0|    null|2022-06-13 18:28:...|\n",
      "|     2020|Abu Dhabi Grand Prix|2020-12-13 13:10:00|       Abu Dhabi|    George Russell|           63|           British|    Williams|  16|         \\N|         54|   0.0|      15|2022-06-13 18:28:...|\n",
      "|     2020|Abu Dhabi Grand Prix|2020-12-13 13:10:00|       Abu Dhabi| Pietro Fittipaldi|           51|         Brazilian|Haas F1 Team|  17|         \\N|         50|   0.0|      19|2022-06-13 18:28:...|\n",
      "|     2020|Abu Dhabi Grand Prix|2020-12-13 13:10:00|       Abu Dhabi|  Sebastian Vettel|            5|            German|     Ferrari|  13|         \\N|         37|   0.0|      14|2022-06-13 18:28:...|\n",
      "|     2020|Abu Dhabi Grand Prix|2020-12-13 13:10:00|       Abu Dhabi|      Daniil Kvyat|           26|           Russian|  AlphaTauri|   7|         \\N|         47|   0.0|      11|2022-06-13 18:28:...|\n",
      "|     2020|Abu Dhabi Grand Prix|2020-12-13 13:10:00|       Abu Dhabi|   Kevin Magnussen|           20|            Danish|Haas F1 Team|  20|         \\N|         50|   0.0|      18|2022-06-13 18:28:...|\n",
      "|     2020|Abu Dhabi Grand Prix|2020-12-13 13:10:00|       Abu Dhabi|   Nicholas Latifi|            6|          Canadian|    Williams|  18|         \\N|         49|   0.0|      17|2022-06-13 18:28:...|\n",
      "|     2020|Abu Dhabi Grand Prix|2020-12-13 13:10:00|       Abu Dhabi|   Charles Leclerc|           16|        Monegasque|     Ferrari|  12|         \\N|         24|   0.0|      13|2022-06-13 18:28:...|\n",
      "|     2020|Abu Dhabi Grand Prix|2020-12-13 13:10:00|       Abu Dhabi|Antonio Giovinazzi|           99|           Italian|  Alfa Romeo|  14|         \\N|         29|   0.0|      16|2022-06-13 18:28:...|\n",
      "|     2020|Abu Dhabi Grand Prix|2020-12-13 13:10:00|       Abu Dhabi|    Kimi Räikkönen|            7|           Finnish|  Alfa Romeo|  15|         \\N|         53|   0.0|      12|2022-06-13 18:28:...|\n",
      "+---------+--------------------+-------------------+----------------+------------------+-------------+------------------+------------+----+-----------+-----------+------+--------+--------------------+\n",
      "\n"
     ]
    }
   ],
   "source": [
    "final_df.filter((final_df['race_Year']==2020) & (final_df['race_Name']=='Abu Dhabi Grand Prix')).orderBy(final_df['points'].desc()).show()"
   ]
  },
  {
   "cell_type": "code",
   "execution_count": null,
   "id": "7b09c4bb",
   "metadata": {},
   "outputs": [],
   "source": []
  }
 ],
 "metadata": {
  "kernelspec": {
   "display_name": "Python 3 (ipykernel)",
   "language": "python",
   "name": "python3"
  },
  "language_info": {
   "codemirror_mode": {
    "name": "ipython",
    "version": 3
   },
   "file_extension": ".py",
   "mimetype": "text/x-python",
   "name": "python",
   "nbconvert_exporter": "python",
   "pygments_lexer": "ipython3",
   "version": "3.9.7"
  }
 },
 "nbformat": 4,
 "nbformat_minor": 5
}
