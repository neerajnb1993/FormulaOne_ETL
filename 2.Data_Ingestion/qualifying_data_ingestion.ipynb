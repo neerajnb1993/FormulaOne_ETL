{
 "cells": [
  {
   "cell_type": "code",
   "execution_count": 1,
   "id": "0adaa6c2",
   "metadata": {
    "ExecuteTime": {
     "end_time": "2022-06-13T04:40:22.926894Z",
     "start_time": "2022-06-13T04:40:22.773515Z"
    }
   },
   "outputs": [],
   "source": [
    "import findspark\n",
    "findspark.init()\n",
    "from pyspark.sql import SparkSession\n",
    "from pyspark.sql.functions import col, lit, current_timestamp\n",
    "from pyspark.sql.types import StructType, StructField, IntegerType, DoubleType, StringType\n",
    "from config_file import raw_path, processed_path\n",
    "from common_func import add_timestamp"
   ]
  },
  {
   "cell_type": "code",
   "execution_count": 2,
   "id": "fae62ab6",
   "metadata": {
    "ExecuteTime": {
     "end_time": "2022-06-13T04:40:30.368426Z",
     "start_time": "2022-06-13T04:40:22.926894Z"
    }
   },
   "outputs": [
    {
     "data": {
      "text/html": [
       "\n",
       "            <div>\n",
       "                <p><b>SparkSession - in-memory</b></p>\n",
       "                \n",
       "        <div>\n",
       "            <p><b>SparkContext</b></p>\n",
       "\n",
       "            <p><a href=\"http://DESKTOP-248N5FB:4047\">Spark UI</a></p>\n",
       "\n",
       "            <dl>\n",
       "              <dt>Version</dt>\n",
       "                <dd><code>v3.0.3</code></dd>\n",
       "              <dt>Master</dt>\n",
       "                <dd><code>local[*]</code></dd>\n",
       "              <dt>AppName</dt>\n",
       "                <dd><code>ETL</code></dd>\n",
       "            </dl>\n",
       "        </div>\n",
       "        \n",
       "            </div>\n",
       "        "
      ],
      "text/plain": [
       "<pyspark.sql.session.SparkSession at 0x159e6146a30>"
      ]
     },
     "execution_count": 2,
     "metadata": {},
     "output_type": "execute_result"
    }
   ],
   "source": [
    "spark = SparkSession.builder.appName('ETL').getOrCreate()\n",
    "spark"
   ]
  },
  {
   "cell_type": "markdown",
   "id": "e1ff4294",
   "metadata": {},
   "source": [
    "## Qualifying Data Ingestion"
   ]
  },
  {
   "cell_type": "code",
   "execution_count": 3,
   "id": "95ab1dfd",
   "metadata": {
    "ExecuteTime": {
     "end_time": "2022-06-13T04:40:34.725993Z",
     "start_time": "2022-06-13T04:40:30.368426Z"
    }
   },
   "outputs": [
    {
     "name": "stdout",
     "output_type": "stream",
     "text": [
      "+-------------+--------+------+--------+--------+--------+--------+---------+------+\n",
      "|constructorId|driverId|number|position|      q1|      q2|      q3|qualifyId|raceId|\n",
      "+-------------+--------+------+--------+--------+--------+--------+---------+------+\n",
      "|            1|       1|    22|       1|1:26.572|1:25.187|1:26.714|        1|    18|\n",
      "|            2|       9|     4|       2|1:26.103|1:25.315|1:26.869|        2|    18|\n",
      "|            1|       5|    23|       3|1:25.664|1:25.452|1:27.079|        3|    18|\n",
      "|            6|      13|     2|       4|1:25.994|1:25.691|1:27.178|        4|    18|\n",
      "|            2|       2|     3|       5|1:25.960|1:25.518|1:27.236|        5|    18|\n",
      "|            7|      15|    11|       6|1:26.427|1:26.101|1:28.527|        6|    18|\n",
      "|            3|       3|     7|       7|1:26.295|1:26.059|1:28.687|        7|    18|\n",
      "|            9|      14|     9|       8|1:26.381|1:26.063|1:29.041|        8|    18|\n",
      "|            7|      10|    12|       9|1:26.919|1:26.164|1:29.593|        9|    18|\n",
      "|            5|      20|    15|      10|1:26.702|1:25.842|      \\N|       10|    18|\n",
      "|           11|      22|    17|      11|1:26.369|1:26.173|      \\N|       11|    18|\n",
      "|            4|       4|     5|      12|1:26.907|1:26.188|      \\N|       12|    18|\n",
      "|           11|      18|    16|      13|1:26.712|1:26.259|      \\N|       13|    18|\n",
      "|            3|       6|     8|      14|1:26.891|1:26.413|      \\N|       14|    18|\n",
      "|            9|      17|    10|      15|1:26.914|      \\N|      \\N|       15|    18|\n",
      "|            6|       8|     1|      16|1:26.140|      \\N|      \\N|       16|    18|\n",
      "|           10|      21|    21|      17|1:27.207|      \\N|      \\N|       17|    18|\n",
      "|            5|       7|    14|      18|1:27.446|      \\N|      \\N|       18|    18|\n",
      "|           10|      16|    20|      19|1:27.859|      \\N|      \\N|       19|    18|\n",
      "|            8|      11|    18|      20|1:28.208|      \\N|      \\N|       20|    18|\n",
      "+-------------+--------+------+--------+--------+--------+--------+---------+------+\n",
      "only showing top 20 rows\n",
      "\n"
     ]
    }
   ],
   "source": [
    "qualifying_df = spark.read.json(f\"{raw_path}\\qualifying\",multiLine=True)\n",
    "qualifying_df.show()"
   ]
  },
  {
   "cell_type": "code",
   "execution_count": 4,
   "id": "a93cd9e9",
   "metadata": {
    "ExecuteTime": {
     "end_time": "2022-06-13T04:40:34.752721Z",
     "start_time": "2022-06-13T04:40:34.725993Z"
    }
   },
   "outputs": [
    {
     "name": "stdout",
     "output_type": "stream",
     "text": [
      "root\n",
      " |-- constructorId: long (nullable = true)\n",
      " |-- driverId: long (nullable = true)\n",
      " |-- number: long (nullable = true)\n",
      " |-- position: long (nullable = true)\n",
      " |-- q1: string (nullable = true)\n",
      " |-- q2: string (nullable = true)\n",
      " |-- q3: string (nullable = true)\n",
      " |-- qualifyId: long (nullable = true)\n",
      " |-- raceId: long (nullable = true)\n",
      "\n"
     ]
    }
   ],
   "source": [
    "qualifying_df.printSchema()"
   ]
  },
  {
   "cell_type": "code",
   "execution_count": 5,
   "id": "b635433e",
   "metadata": {
    "ExecuteTime": {
     "end_time": "2022-06-13T04:40:34.833872Z",
     "start_time": "2022-06-13T04:40:34.752721Z"
    }
   },
   "outputs": [],
   "source": [
    "qualifying_df = qualifying_df.withColumnRenamed('constructorId','constructor_Id')\\\n",
    ".withColumnRenamed('driverId','driver_Id')\\\n",
    ".withColumnRenamed('qualifyId','qualify_Id')\\\n",
    ".withColumnRenamed('raceId','race_Id')"
   ]
  },
  {
   "cell_type": "code",
   "execution_count": 6,
   "id": "763fbf94",
   "metadata": {
    "ExecuteTime": {
     "end_time": "2022-06-13T04:40:34.897856Z",
     "start_time": "2022-06-13T04:40:34.833872Z"
    }
   },
   "outputs": [],
   "source": [
    "qualifying_df = add_timestamp(qualifying_df)"
   ]
  },
  {
   "cell_type": "code",
   "execution_count": 7,
   "id": "5eb4205f",
   "metadata": {
    "ExecuteTime": {
     "end_time": "2022-06-13T04:40:35.192956Z",
     "start_time": "2022-06-13T04:40:34.897856Z"
    }
   },
   "outputs": [
    {
     "name": "stdout",
     "output_type": "stream",
     "text": [
      "+--------------+---------+------+--------+--------+--------+--------+----------+-------+--------------------+\n",
      "|constructor_Id|driver_Id|number|position|      q1|      q2|      q3|qualify_Id|race_Id|      ingestion_Date|\n",
      "+--------------+---------+------+--------+--------+--------+--------+----------+-------+--------------------+\n",
      "|             1|        1|    22|       1|1:26.572|1:25.187|1:26.714|         1|     18|2022-06-13 10:10:...|\n",
      "|             2|        9|     4|       2|1:26.103|1:25.315|1:26.869|         2|     18|2022-06-13 10:10:...|\n",
      "|             1|        5|    23|       3|1:25.664|1:25.452|1:27.079|         3|     18|2022-06-13 10:10:...|\n",
      "|             6|       13|     2|       4|1:25.994|1:25.691|1:27.178|         4|     18|2022-06-13 10:10:...|\n",
      "|             2|        2|     3|       5|1:25.960|1:25.518|1:27.236|         5|     18|2022-06-13 10:10:...|\n",
      "|             7|       15|    11|       6|1:26.427|1:26.101|1:28.527|         6|     18|2022-06-13 10:10:...|\n",
      "|             3|        3|     7|       7|1:26.295|1:26.059|1:28.687|         7|     18|2022-06-13 10:10:...|\n",
      "|             9|       14|     9|       8|1:26.381|1:26.063|1:29.041|         8|     18|2022-06-13 10:10:...|\n",
      "|             7|       10|    12|       9|1:26.919|1:26.164|1:29.593|         9|     18|2022-06-13 10:10:...|\n",
      "|             5|       20|    15|      10|1:26.702|1:25.842|      \\N|        10|     18|2022-06-13 10:10:...|\n",
      "|            11|       22|    17|      11|1:26.369|1:26.173|      \\N|        11|     18|2022-06-13 10:10:...|\n",
      "|             4|        4|     5|      12|1:26.907|1:26.188|      \\N|        12|     18|2022-06-13 10:10:...|\n",
      "|            11|       18|    16|      13|1:26.712|1:26.259|      \\N|        13|     18|2022-06-13 10:10:...|\n",
      "|             3|        6|     8|      14|1:26.891|1:26.413|      \\N|        14|     18|2022-06-13 10:10:...|\n",
      "|             9|       17|    10|      15|1:26.914|      \\N|      \\N|        15|     18|2022-06-13 10:10:...|\n",
      "|             6|        8|     1|      16|1:26.140|      \\N|      \\N|        16|     18|2022-06-13 10:10:...|\n",
      "|            10|       21|    21|      17|1:27.207|      \\N|      \\N|        17|     18|2022-06-13 10:10:...|\n",
      "|             5|        7|    14|      18|1:27.446|      \\N|      \\N|        18|     18|2022-06-13 10:10:...|\n",
      "|            10|       16|    20|      19|1:27.859|      \\N|      \\N|        19|     18|2022-06-13 10:10:...|\n",
      "|             8|       11|    18|      20|1:28.208|      \\N|      \\N|        20|     18|2022-06-13 10:10:...|\n",
      "+--------------+---------+------+--------+--------+--------+--------+----------+-------+--------------------+\n",
      "only showing top 20 rows\n",
      "\n"
     ]
    }
   ],
   "source": [
    "qualifying_df.show()"
   ]
  },
  {
   "cell_type": "code",
   "execution_count": 8,
   "id": "e0f5bab9",
   "metadata": {
    "ExecuteTime": {
     "end_time": "2022-06-13T04:40:36.565578Z",
     "start_time": "2022-06-13T04:40:35.192956Z"
    }
   },
   "outputs": [],
   "source": [
    "qualifying_df.write.mode('overwrite').parquet(f\"{processed_path}\\Qualifying\")"
   ]
  },
  {
   "cell_type": "code",
   "execution_count": null,
   "id": "93dae715",
   "metadata": {},
   "outputs": [],
   "source": []
  }
 ],
 "metadata": {
  "kernelspec": {
   "display_name": "Python 3 (ipykernel)",
   "language": "python",
   "name": "python3"
  },
  "language_info": {
   "codemirror_mode": {
    "name": "ipython",
    "version": 3
   },
   "file_extension": ".py",
   "mimetype": "text/x-python",
   "name": "python",
   "nbconvert_exporter": "python",
   "pygments_lexer": "ipython3",
   "version": "3.9.7"
  }
 },
 "nbformat": 4,
 "nbformat_minor": 5
}
