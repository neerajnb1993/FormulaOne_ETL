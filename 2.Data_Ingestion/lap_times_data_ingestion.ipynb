{
 "cells": [
  {
   "cell_type": "code",
   "execution_count": 1,
   "id": "d098fc0b",
   "metadata": {
    "ExecuteTime": {
     "end_time": "2022-06-13T05:10:00.728560Z",
     "start_time": "2022-06-13T05:10:00.600448Z"
    }
   },
   "outputs": [],
   "source": [
    "import findspark\n",
    "findspark.init()\n",
    "from pyspark.sql import SparkSession\n",
    "from pyspark.sql.functions import col, lit, current_timestamp, to_timestamp, concat\n",
    "from pyspark.sql.types import StructType, StructField, IntegerType, DoubleType, StringType\n",
    "from config_file import raw_path, processed_path\n",
    "from common_func import add_timestamp"
   ]
  },
  {
   "cell_type": "code",
   "execution_count": 2,
   "id": "055d7120",
   "metadata": {
    "ExecuteTime": {
     "end_time": "2022-06-13T05:10:08.166827Z",
     "start_time": "2022-06-13T05:10:00.728560Z"
    }
   },
   "outputs": [
    {
     "data": {
      "text/html": [
       "\n",
       "            <div>\n",
       "                <p><b>SparkSession - in-memory</b></p>\n",
       "                \n",
       "        <div>\n",
       "            <p><b>SparkContext</b></p>\n",
       "\n",
       "            <p><a href=\"http://DESKTOP-248N5FB:4046\">Spark UI</a></p>\n",
       "\n",
       "            <dl>\n",
       "              <dt>Version</dt>\n",
       "                <dd><code>v3.0.3</code></dd>\n",
       "              <dt>Master</dt>\n",
       "                <dd><code>local[*]</code></dd>\n",
       "              <dt>AppName</dt>\n",
       "                <dd><code>ETL</code></dd>\n",
       "            </dl>\n",
       "        </div>\n",
       "        \n",
       "            </div>\n",
       "        "
      ],
      "text/plain": [
       "<pyspark.sql.session.SparkSession at 0x1dd54523a90>"
      ]
     },
     "execution_count": 2,
     "metadata": {},
     "output_type": "execute_result"
    }
   ],
   "source": [
    "spark = SparkSession.builder.appName('ETL').getOrCreate()\n",
    "spark"
   ]
  },
  {
   "cell_type": "markdown",
   "id": "6158eaf5",
   "metadata": {},
   "source": [
    "## Lap Times Data Ingestion"
   ]
  },
  {
   "cell_type": "code",
   "execution_count": 3,
   "id": "15352952",
   "metadata": {
    "ExecuteTime": {
     "end_time": "2022-06-13T05:10:08.197141Z",
     "start_time": "2022-06-13T05:10:08.166827Z"
    }
   },
   "outputs": [],
   "source": [
    "Schema = StructType([StructField('_c0',IntegerType(),True),\n",
    "                    StructField('_c1',IntegerType(),True),\n",
    "                    StructField('_c2',IntegerType(),True),\n",
    "                    StructField('_c3',IntegerType(),True),\n",
    "                    StructField('_c4',StringType(),True),\n",
    "                    StructField('_c5',IntegerType(),True),\n",
    "                    ])"
   ]
  },
  {
   "cell_type": "code",
   "execution_count": 4,
   "id": "3a534252",
   "metadata": {
    "ExecuteTime": {
     "end_time": "2022-06-13T05:10:12.656970Z",
     "start_time": "2022-06-13T05:10:08.198039Z"
    }
   },
   "outputs": [
    {
     "name": "stdout",
     "output_type": "stream",
     "text": [
      "+---+---+---+---+--------+------+\n",
      "|_c0|_c1|_c2|_c3|     _c4|   _c5|\n",
      "+---+---+---+---+--------+------+\n",
      "|841| 20|  1|  1|1:38.109| 98109|\n",
      "|841| 20|  2|  1|1:33.006| 93006|\n",
      "|841| 20|  3|  1|1:32.713| 92713|\n",
      "|841| 20|  4|  1|1:32.803| 92803|\n",
      "|841| 20|  5|  1|1:32.342| 92342|\n",
      "|841| 20|  6|  1|1:32.605| 92605|\n",
      "|841| 20|  7|  1|1:32.502| 92502|\n",
      "|841| 20|  8|  1|1:32.537| 92537|\n",
      "|841| 20|  9|  1|1:33.240| 93240|\n",
      "|841| 20| 10|  1|1:32.572| 92572|\n",
      "|841| 20| 11|  1|1:32.669| 92669|\n",
      "|841| 20| 12|  1|1:32.902| 92902|\n",
      "|841| 20| 13|  1|1:33.698| 93698|\n",
      "|841| 20| 14|  3|1:52.075|112075|\n",
      "|841| 20| 15|  4|1:38.385| 98385|\n",
      "|841| 20| 16|  2|1:31.548| 91548|\n",
      "|841| 20| 17|  1|1:30.800| 90800|\n",
      "|841| 20| 18|  1|1:31.810| 91810|\n",
      "|841| 20| 19|  1|1:31.018| 91018|\n",
      "|841| 20| 20|  1|1:31.055| 91055|\n",
      "+---+---+---+---+--------+------+\n",
      "only showing top 20 rows\n",
      "\n"
     ]
    }
   ],
   "source": [
    "lap_time_df = spark.read.option('schema','Schema').csv(f\"{raw_path}\\lap_times\")\n",
    "lap_time_df.show()"
   ]
  },
  {
   "cell_type": "code",
   "execution_count": 5,
   "id": "7cacc760",
   "metadata": {
    "ExecuteTime": {
     "end_time": "2022-06-13T05:10:12.719004Z",
     "start_time": "2022-06-13T05:10:12.656970Z"
    }
   },
   "outputs": [],
   "source": [
    "lap_time_df = lap_time_df.withColumnRenamed('_c0','race_Id')\\\n",
    "                        .withColumnRenamed('_c1','driver_Id')\\\n",
    "                        .withColumnRenamed('_c2','lap')\\\n",
    "                        .withColumnRenamed('_c3','position')\\\n",
    "                        .withColumnRenamed('_c4','time')\\\n",
    "                        .withColumnRenamed('_c5','milliseconds')"
   ]
  },
  {
   "cell_type": "code",
   "execution_count": 6,
   "id": "dd85fbe5",
   "metadata": {
    "ExecuteTime": {
     "end_time": "2022-06-13T05:10:12.767189Z",
     "start_time": "2022-06-13T05:10:12.719004Z"
    }
   },
   "outputs": [],
   "source": [
    "lap_time_df = add_timestamp(lap_time_df)"
   ]
  },
  {
   "cell_type": "code",
   "execution_count": 7,
   "id": "27162256",
   "metadata": {
    "ExecuteTime": {
     "end_time": "2022-06-13T05:10:12.999877Z",
     "start_time": "2022-06-13T05:10:12.767189Z"
    }
   },
   "outputs": [
    {
     "name": "stdout",
     "output_type": "stream",
     "text": [
      "+-------+---------+---+--------+--------+------------+--------------------+\n",
      "|race_Id|driver_Id|lap|position|    time|milliseconds|      ingestion_Date|\n",
      "+-------+---------+---+--------+--------+------------+--------------------+\n",
      "|    841|       20|  1|       1|1:38.109|       98109|2022-06-13 10:40:...|\n",
      "|    841|       20|  2|       1|1:33.006|       93006|2022-06-13 10:40:...|\n",
      "|    841|       20|  3|       1|1:32.713|       92713|2022-06-13 10:40:...|\n",
      "|    841|       20|  4|       1|1:32.803|       92803|2022-06-13 10:40:...|\n",
      "|    841|       20|  5|       1|1:32.342|       92342|2022-06-13 10:40:...|\n",
      "|    841|       20|  6|       1|1:32.605|       92605|2022-06-13 10:40:...|\n",
      "|    841|       20|  7|       1|1:32.502|       92502|2022-06-13 10:40:...|\n",
      "|    841|       20|  8|       1|1:32.537|       92537|2022-06-13 10:40:...|\n",
      "|    841|       20|  9|       1|1:33.240|       93240|2022-06-13 10:40:...|\n",
      "|    841|       20| 10|       1|1:32.572|       92572|2022-06-13 10:40:...|\n",
      "|    841|       20| 11|       1|1:32.669|       92669|2022-06-13 10:40:...|\n",
      "|    841|       20| 12|       1|1:32.902|       92902|2022-06-13 10:40:...|\n",
      "|    841|       20| 13|       1|1:33.698|       93698|2022-06-13 10:40:...|\n",
      "|    841|       20| 14|       3|1:52.075|      112075|2022-06-13 10:40:...|\n",
      "|    841|       20| 15|       4|1:38.385|       98385|2022-06-13 10:40:...|\n",
      "|    841|       20| 16|       2|1:31.548|       91548|2022-06-13 10:40:...|\n",
      "|    841|       20| 17|       1|1:30.800|       90800|2022-06-13 10:40:...|\n",
      "|    841|       20| 18|       1|1:31.810|       91810|2022-06-13 10:40:...|\n",
      "|    841|       20| 19|       1|1:31.018|       91018|2022-06-13 10:40:...|\n",
      "|    841|       20| 20|       1|1:31.055|       91055|2022-06-13 10:40:...|\n",
      "+-------+---------+---+--------+--------+------------+--------------------+\n",
      "only showing top 20 rows\n",
      "\n"
     ]
    }
   ],
   "source": [
    "lap_time_df.show()"
   ]
  },
  {
   "cell_type": "code",
   "execution_count": 8,
   "id": "7f02b040",
   "metadata": {
    "ExecuteTime": {
     "end_time": "2022-06-13T05:10:16.789973Z",
     "start_time": "2022-06-13T05:10:12.999877Z"
    }
   },
   "outputs": [],
   "source": [
    "lap_time_df.write.mode('overwrite').parquet(f\"{processed_path}\\Lap_Time\")"
   ]
  },
  {
   "cell_type": "code",
   "execution_count": null,
   "id": "416479ec",
   "metadata": {},
   "outputs": [],
   "source": []
  }
 ],
 "metadata": {
  "kernelspec": {
   "display_name": "Python 3 (ipykernel)",
   "language": "python",
   "name": "python3"
  },
  "language_info": {
   "codemirror_mode": {
    "name": "ipython",
    "version": 3
   },
   "file_extension": ".py",
   "mimetype": "text/x-python",
   "name": "python",
   "nbconvert_exporter": "python",
   "pygments_lexer": "ipython3",
   "version": "3.9.7"
  }
 },
 "nbformat": 4,
 "nbformat_minor": 5
}
