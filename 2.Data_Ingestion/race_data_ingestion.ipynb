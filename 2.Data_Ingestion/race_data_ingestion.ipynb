{
 "cells": [
  {
   "cell_type": "code",
   "execution_count": 1,
   "id": "a36027c8",
   "metadata": {
    "ExecuteTime": {
     "end_time": "2022-06-13T05:24:31.135848Z",
     "start_time": "2022-06-13T05:24:30.964042Z"
    }
   },
   "outputs": [],
   "source": [
    "import findspark\n",
    "findspark.init()\n",
    "from pyspark.sql import SparkSession\n",
    "from pyspark.sql.functions import col, lit, current_timestamp, to_timestamp, concat\n",
    "from pyspark.sql.types import StructType, StructField, IntegerType, DoubleType, StringType, DateType, TimestampType\n",
    "from config_file import raw_path, processed_path\n",
    "from common_func import add_timestamp"
   ]
  },
  {
   "cell_type": "code",
   "execution_count": 2,
   "id": "126ebc22",
   "metadata": {
    "ExecuteTime": {
     "end_time": "2022-06-13T05:24:38.355306Z",
     "start_time": "2022-06-13T05:24:31.135848Z"
    }
   },
   "outputs": [
    {
     "data": {
      "text/html": [
       "\n",
       "            <div>\n",
       "                <p><b>SparkSession - in-memory</b></p>\n",
       "                \n",
       "        <div>\n",
       "            <p><b>SparkContext</b></p>\n",
       "\n",
       "            <p><a href=\"http://DESKTOP-248N5FB:4041\">Spark UI</a></p>\n",
       "\n",
       "            <dl>\n",
       "              <dt>Version</dt>\n",
       "                <dd><code>v3.0.3</code></dd>\n",
       "              <dt>Master</dt>\n",
       "                <dd><code>local[*]</code></dd>\n",
       "              <dt>AppName</dt>\n",
       "                <dd><code>ETL</code></dd>\n",
       "            </dl>\n",
       "        </div>\n",
       "        \n",
       "            </div>\n",
       "        "
      ],
      "text/plain": [
       "<pyspark.sql.session.SparkSession at 0x1ae688b1b80>"
      ]
     },
     "execution_count": 2,
     "metadata": {},
     "output_type": "execute_result"
    }
   ],
   "source": [
    "spark = SparkSession.builder.appName('ETL').getOrCreate()\n",
    "spark"
   ]
  },
  {
   "cell_type": "markdown",
   "id": "a388155b",
   "metadata": {},
   "source": [
    "## Race Data Ingestion"
   ]
  },
  {
   "cell_type": "code",
   "execution_count": 3,
   "id": "6c6fb07f",
   "metadata": {
    "ExecuteTime": {
     "end_time": "2022-06-13T05:24:42.869599Z",
     "start_time": "2022-06-13T05:24:38.355306Z"
    }
   },
   "outputs": [
    {
     "name": "stdout",
     "output_type": "stream",
     "text": [
      "+------+----+-----+---------+--------------------+----------+--------+--------------------+\n",
      "|raceId|year|round|circuitId|                name|      date|    time|                 url|\n",
      "+------+----+-----+---------+--------------------+----------+--------+--------------------+\n",
      "|     1|2009|    1|        1|Australian Grand ...|2009-03-29|06:00:00|http://en.wikiped...|\n",
      "|     2|2009|    2|        2|Malaysian Grand Prix|2009-04-05|09:00:00|http://en.wikiped...|\n",
      "|     3|2009|    3|       17|  Chinese Grand Prix|2009-04-19|07:00:00|http://en.wikiped...|\n",
      "|     4|2009|    4|        3|  Bahrain Grand Prix|2009-04-26|12:00:00|http://en.wikiped...|\n",
      "|     5|2009|    5|        4|  Spanish Grand Prix|2009-05-10|12:00:00|http://en.wikiped...|\n",
      "|     6|2009|    6|        6|   Monaco Grand Prix|2009-05-24|12:00:00|http://en.wikiped...|\n",
      "|     7|2009|    7|        5|  Turkish Grand Prix|2009-06-07|12:00:00|http://en.wikiped...|\n",
      "|     8|2009|    8|        9|  British Grand Prix|2009-06-21|12:00:00|http://en.wikiped...|\n",
      "|     9|2009|    9|       20|   German Grand Prix|2009-07-12|12:00:00|http://en.wikiped...|\n",
      "|    10|2009|   10|       11|Hungarian Grand Prix|2009-07-26|12:00:00|http://en.wikiped...|\n",
      "|    11|2009|   11|       12| European Grand Prix|2009-08-23|12:00:00|http://en.wikiped...|\n",
      "|    12|2009|   12|       13|  Belgian Grand Prix|2009-08-30|12:00:00|http://en.wikiped...|\n",
      "|    13|2009|   13|       14|  Italian Grand Prix|2009-09-13|12:00:00|http://en.wikiped...|\n",
      "|    14|2009|   14|       15|Singapore Grand Prix|2009-09-27|12:00:00|http://en.wikiped...|\n",
      "|    15|2009|   15|       22| Japanese Grand Prix|2009-10-04|05:00:00|http://en.wikiped...|\n",
      "|    16|2009|   16|       18|Brazilian Grand Prix|2009-10-18|16:00:00|http://en.wikiped...|\n",
      "|    17|2009|   17|       24|Abu Dhabi Grand Prix|2009-11-01|11:00:00|http://en.wikiped...|\n",
      "|    18|2008|    1|        1|Australian Grand ...|2008-03-16|04:30:00|http://en.wikiped...|\n",
      "|    19|2008|    2|        2|Malaysian Grand Prix|2008-03-23|07:00:00|http://en.wikiped...|\n",
      "|    20|2008|    3|        3|  Bahrain Grand Prix|2008-04-06|11:30:00|http://en.wikiped...|\n",
      "+------+----+-----+---------+--------------------+----------+--------+--------------------+\n",
      "only showing top 20 rows\n",
      "\n"
     ]
    }
   ],
   "source": [
    "race_df = spark.read.csv(f\"{raw_path}/races.csv\",header=True)\n",
    "race_df.show()"
   ]
  },
  {
   "cell_type": "code",
   "execution_count": 4,
   "id": "0d42367e",
   "metadata": {
    "ExecuteTime": {
     "end_time": "2022-06-13T05:24:42.893920Z",
     "start_time": "2022-06-13T05:24:42.869599Z"
    }
   },
   "outputs": [
    {
     "name": "stdout",
     "output_type": "stream",
     "text": [
      "root\n",
      " |-- raceId: string (nullable = true)\n",
      " |-- year: string (nullable = true)\n",
      " |-- round: string (nullable = true)\n",
      " |-- circuitId: string (nullable = true)\n",
      " |-- name: string (nullable = true)\n",
      " |-- date: string (nullable = true)\n",
      " |-- time: string (nullable = true)\n",
      " |-- url: string (nullable = true)\n",
      "\n"
     ]
    }
   ],
   "source": [
    "# Lets print the schema\n",
    "\n",
    "race_df.printSchema()"
   ]
  },
  {
   "cell_type": "code",
   "execution_count": 5,
   "id": "31707b10",
   "metadata": {
    "ExecuteTime": {
     "end_time": "2022-06-13T05:24:42.909920Z",
     "start_time": "2022-06-13T05:24:42.893920Z"
    }
   },
   "outputs": [],
   "source": [
    "# Lets change the data type\n",
    "\n",
    "Schema = StructType([StructField('raceId',IntegerType(),True),\n",
    "                    StructField('year',IntegerType(),True),\n",
    "                    StructField('round',IntegerType(),True),\n",
    "                    StructField('circuitId',IntegerType(),True),\n",
    "                    StructField('name',StringType(),True),\n",
    "                    StructField('date',DateType(),True),\n",
    "                    StructField('time',StringType(),True),\n",
    "                    StructField('url',StringType(),True),\n",
    "                    ])"
   ]
  },
  {
   "cell_type": "code",
   "execution_count": 6,
   "id": "950d45a0",
   "metadata": {
    "ExecuteTime": {
     "end_time": "2022-06-13T05:24:43.257380Z",
     "start_time": "2022-06-13T05:24:42.909920Z"
    }
   },
   "outputs": [
    {
     "name": "stdout",
     "output_type": "stream",
     "text": [
      "+------+----+-----+---------+--------------------+----------+--------+--------------------+\n",
      "|raceId|year|round|circuitId|                name|      date|    time|                 url|\n",
      "+------+----+-----+---------+--------------------+----------+--------+--------------------+\n",
      "|     1|2009|    1|        1|Australian Grand ...|2009-03-29|06:00:00|http://en.wikiped...|\n",
      "|     2|2009|    2|        2|Malaysian Grand Prix|2009-04-05|09:00:00|http://en.wikiped...|\n",
      "|     3|2009|    3|       17|  Chinese Grand Prix|2009-04-19|07:00:00|http://en.wikiped...|\n",
      "|     4|2009|    4|        3|  Bahrain Grand Prix|2009-04-26|12:00:00|http://en.wikiped...|\n",
      "|     5|2009|    5|        4|  Spanish Grand Prix|2009-05-10|12:00:00|http://en.wikiped...|\n",
      "|     6|2009|    6|        6|   Monaco Grand Prix|2009-05-24|12:00:00|http://en.wikiped...|\n",
      "|     7|2009|    7|        5|  Turkish Grand Prix|2009-06-07|12:00:00|http://en.wikiped...|\n",
      "|     8|2009|    8|        9|  British Grand Prix|2009-06-21|12:00:00|http://en.wikiped...|\n",
      "|     9|2009|    9|       20|   German Grand Prix|2009-07-12|12:00:00|http://en.wikiped...|\n",
      "|    10|2009|   10|       11|Hungarian Grand Prix|2009-07-26|12:00:00|http://en.wikiped...|\n",
      "|    11|2009|   11|       12| European Grand Prix|2009-08-23|12:00:00|http://en.wikiped...|\n",
      "|    12|2009|   12|       13|  Belgian Grand Prix|2009-08-30|12:00:00|http://en.wikiped...|\n",
      "|    13|2009|   13|       14|  Italian Grand Prix|2009-09-13|12:00:00|http://en.wikiped...|\n",
      "|    14|2009|   14|       15|Singapore Grand Prix|2009-09-27|12:00:00|http://en.wikiped...|\n",
      "|    15|2009|   15|       22| Japanese Grand Prix|2009-10-04|05:00:00|http://en.wikiped...|\n",
      "|    16|2009|   16|       18|Brazilian Grand Prix|2009-10-18|16:00:00|http://en.wikiped...|\n",
      "|    17|2009|   17|       24|Abu Dhabi Grand Prix|2009-11-01|11:00:00|http://en.wikiped...|\n",
      "|    18|2008|    1|        1|Australian Grand ...|2008-03-16|04:30:00|http://en.wikiped...|\n",
      "|    19|2008|    2|        2|Malaysian Grand Prix|2008-03-23|07:00:00|http://en.wikiped...|\n",
      "|    20|2008|    3|        3|  Bahrain Grand Prix|2008-04-06|11:30:00|http://en.wikiped...|\n",
      "+------+----+-----+---------+--------------------+----------+--------+--------------------+\n",
      "only showing top 20 rows\n",
      "\n"
     ]
    }
   ],
   "source": [
    "race_df = spark.read.csv(r'C:\\Users\\NeerajBhat\\Desktop\\Projects\\Bizmetric_Projects\\Practice_Projects\\Formula1_Project\\Raw_Data\\raw\\races.csv',header=True,schema=Schema)\n",
    "race_df.show()"
   ]
  },
  {
   "cell_type": "code",
   "execution_count": 7,
   "id": "c505fa9f",
   "metadata": {
    "ExecuteTime": {
     "end_time": "2022-06-13T05:24:43.273385Z",
     "start_time": "2022-06-13T05:24:43.257380Z"
    }
   },
   "outputs": [
    {
     "name": "stdout",
     "output_type": "stream",
     "text": [
      "root\n",
      " |-- raceId: integer (nullable = true)\n",
      " |-- year: integer (nullable = true)\n",
      " |-- round: integer (nullable = true)\n",
      " |-- circuitId: integer (nullable = true)\n",
      " |-- name: string (nullable = true)\n",
      " |-- date: date (nullable = true)\n",
      " |-- time: string (nullable = true)\n",
      " |-- url: string (nullable = true)\n",
      "\n"
     ]
    }
   ],
   "source": [
    "race_df.printSchema()"
   ]
  },
  {
   "cell_type": "code",
   "execution_count": 8,
   "id": "c1a790fe",
   "metadata": {
    "ExecuteTime": {
     "end_time": "2022-06-13T05:24:43.345729Z",
     "start_time": "2022-06-13T05:24:43.273385Z"
    }
   },
   "outputs": [],
   "source": [
    "race_df = race_df.withColumn('race_Timestamp',to_timestamp(concat(col('date'),lit(' '),col('time')),'yyy-MM-dd HH:mm:ss'))"
   ]
  },
  {
   "cell_type": "code",
   "execution_count": 9,
   "id": "4036e28c",
   "metadata": {
    "ExecuteTime": {
     "end_time": "2022-06-13T05:24:43.385823Z",
     "start_time": "2022-06-13T05:24:43.345729Z"
    }
   },
   "outputs": [],
   "source": [
    "race_df = add_timestamp(race_df)"
   ]
  },
  {
   "cell_type": "code",
   "execution_count": 10,
   "id": "1e99dd41",
   "metadata": {
    "ExecuteTime": {
     "end_time": "2022-06-13T05:24:43.798970Z",
     "start_time": "2022-06-13T05:24:43.388119Z"
    }
   },
   "outputs": [
    {
     "name": "stdout",
     "output_type": "stream",
     "text": [
      "+-------+---------+-----+----------+--------------------+-------------------+--------------------+\n",
      "|race_Id|race_Year|round|circuit_Id|                name|     race_Timestamp|      ingestion_Date|\n",
      "+-------+---------+-----+----------+--------------------+-------------------+--------------------+\n",
      "|      1|     2009|    1|         1|Australian Grand ...|2009-03-29 06:00:00|2022-06-13 10:54:...|\n",
      "|      2|     2009|    2|         2|Malaysian Grand Prix|2009-04-05 09:00:00|2022-06-13 10:54:...|\n",
      "|      3|     2009|    3|        17|  Chinese Grand Prix|2009-04-19 07:00:00|2022-06-13 10:54:...|\n",
      "|      4|     2009|    4|         3|  Bahrain Grand Prix|2009-04-26 12:00:00|2022-06-13 10:54:...|\n",
      "|      5|     2009|    5|         4|  Spanish Grand Prix|2009-05-10 12:00:00|2022-06-13 10:54:...|\n",
      "|      6|     2009|    6|         6|   Monaco Grand Prix|2009-05-24 12:00:00|2022-06-13 10:54:...|\n",
      "|      7|     2009|    7|         5|  Turkish Grand Prix|2009-06-07 12:00:00|2022-06-13 10:54:...|\n",
      "|      8|     2009|    8|         9|  British Grand Prix|2009-06-21 12:00:00|2022-06-13 10:54:...|\n",
      "|      9|     2009|    9|        20|   German Grand Prix|2009-07-12 12:00:00|2022-06-13 10:54:...|\n",
      "|     10|     2009|   10|        11|Hungarian Grand Prix|2009-07-26 12:00:00|2022-06-13 10:54:...|\n",
      "|     11|     2009|   11|        12| European Grand Prix|2009-08-23 12:00:00|2022-06-13 10:54:...|\n",
      "|     12|     2009|   12|        13|  Belgian Grand Prix|2009-08-30 12:00:00|2022-06-13 10:54:...|\n",
      "|     13|     2009|   13|        14|  Italian Grand Prix|2009-09-13 12:00:00|2022-06-13 10:54:...|\n",
      "|     14|     2009|   14|        15|Singapore Grand Prix|2009-09-27 12:00:00|2022-06-13 10:54:...|\n",
      "|     15|     2009|   15|        22| Japanese Grand Prix|2009-10-04 05:00:00|2022-06-13 10:54:...|\n",
      "|     16|     2009|   16|        18|Brazilian Grand Prix|2009-10-18 16:00:00|2022-06-13 10:54:...|\n",
      "|     17|     2009|   17|        24|Abu Dhabi Grand Prix|2009-11-01 11:00:00|2022-06-13 10:54:...|\n",
      "|     18|     2008|    1|         1|Australian Grand ...|2008-03-16 04:30:00|2022-06-13 10:54:...|\n",
      "|     19|     2008|    2|         2|Malaysian Grand Prix|2008-03-23 07:00:00|2022-06-13 10:54:...|\n",
      "|     20|     2008|    3|         3|  Bahrain Grand Prix|2008-04-06 11:30:00|2022-06-13 10:54:...|\n",
      "+-------+---------+-----+----------+--------------------+-------------------+--------------------+\n",
      "only showing top 20 rows\n",
      "\n"
     ]
    }
   ],
   "source": [
    "race_df = race_df.select(col('raceId').alias('race_Id'),col('year').alias('race_Year'),col('round'),col('circuitId').alias('circuit_Id'),col('name'),col('race_Timestamp'),col('ingestion_Date'))\n",
    "race_df.show()"
   ]
  },
  {
   "cell_type": "code",
   "execution_count": 11,
   "id": "7f7862b1",
   "metadata": {
    "ExecuteTime": {
     "end_time": "2022-06-13T05:24:56.170013Z",
     "start_time": "2022-06-13T05:24:43.798970Z"
    }
   },
   "outputs": [],
   "source": [
    "race_df.write.mode('overwrite').partitionBy('race_Year').parquet(f\"{processed_path}\\Race\")"
   ]
  },
  {
   "cell_type": "code",
   "execution_count": null,
   "id": "cebe0f1a",
   "metadata": {},
   "outputs": [],
   "source": []
  }
 ],
 "metadata": {
  "kernelspec": {
   "display_name": "Python 3 (ipykernel)",
   "language": "python",
   "name": "python3"
  },
  "language_info": {
   "codemirror_mode": {
    "name": "ipython",
    "version": 3
   },
   "file_extension": ".py",
   "mimetype": "text/x-python",
   "name": "python",
   "nbconvert_exporter": "python",
   "pygments_lexer": "ipython3",
   "version": "3.9.7"
  }
 },
 "nbformat": 4,
 "nbformat_minor": 5
}
