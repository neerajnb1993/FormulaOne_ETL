{
 "cells": [
  {
   "cell_type": "code",
   "execution_count": 1,
   "id": "44b2432f",
   "metadata": {
    "ExecuteTime": {
     "end_time": "2022-06-13T05:04:58.202533Z",
     "start_time": "2022-06-13T05:04:58.078873Z"
    }
   },
   "outputs": [],
   "source": [
    "import findspark\n",
    "findspark.init()\n",
    "from pyspark.sql import SparkSession\n",
    "from pyspark.sql.functions import col, lit, current_timestamp, to_timestamp, concat\n",
    "from config_file import raw_path, processed_path\n",
    "from common_func import add_timestamp"
   ]
  },
  {
   "cell_type": "code",
   "execution_count": 2,
   "id": "2925e946",
   "metadata": {
    "ExecuteTime": {
     "end_time": "2022-06-13T05:05:07.100739Z",
     "start_time": "2022-06-13T05:04:58.203169Z"
    }
   },
   "outputs": [
    {
     "data": {
      "text/html": [
       "\n",
       "            <div>\n",
       "                <p><b>SparkSession - in-memory</b></p>\n",
       "                \n",
       "        <div>\n",
       "            <p><b>SparkContext</b></p>\n",
       "\n",
       "            <p><a href=\"http://DESKTOP-248N5FB:4043\">Spark UI</a></p>\n",
       "\n",
       "            <dl>\n",
       "              <dt>Version</dt>\n",
       "                <dd><code>v3.0.3</code></dd>\n",
       "              <dt>Master</dt>\n",
       "                <dd><code>local[*]</code></dd>\n",
       "              <dt>AppName</dt>\n",
       "                <dd><code>ETL</code></dd>\n",
       "            </dl>\n",
       "        </div>\n",
       "        \n",
       "            </div>\n",
       "        "
      ],
      "text/plain": [
       "<pyspark.sql.session.SparkSession at 0x139a24b0a60>"
      ]
     },
     "execution_count": 2,
     "metadata": {},
     "output_type": "execute_result"
    }
   ],
   "source": [
    "spark = SparkSession.builder.appName('ETL').getOrCreate()\n",
    "spark"
   ]
  },
  {
   "cell_type": "markdown",
   "id": "a883cd46",
   "metadata": {},
   "source": [
    "## Drivers Data Ingestion"
   ]
  },
  {
   "cell_type": "code",
   "execution_count": 3,
   "id": "ceaa5f41",
   "metadata": {
    "ExecuteTime": {
     "end_time": "2022-06-13T05:05:11.991296Z",
     "start_time": "2022-06-13T05:05:07.105736Z"
    }
   },
   "outputs": [
    {
     "name": "stdout",
     "output_type": "stream",
     "text": [
      "+----+----------+--------+----------+--------------------+-----------+------+--------------------+\n",
      "|code|       dob|driverId| driverRef|                name|nationality|number|                 url|\n",
      "+----+----------+--------+----------+--------------------+-----------+------+--------------------+\n",
      "| HAM|1985-01-07|       1|  hamilton|   [Lewis, Hamilton]|    British|    44|http://en.wikiped...|\n",
      "| HEI|1977-05-10|       2|  heidfeld|    [Nick, Heidfeld]|     German|    \\N|http://en.wikiped...|\n",
      "| ROS|1985-06-27|       3|   rosberg|     [Nico, Rosberg]|     German|     6|http://en.wikiped...|\n",
      "| ALO|1981-07-29|       4|    alonso|  [Fernando, Alonso]|    Spanish|    14|http://en.wikiped...|\n",
      "| KOV|1981-10-19|       5|kovalainen|[Heikki, Kovalainen]|    Finnish|    \\N|http://en.wikiped...|\n",
      "| NAK|1985-01-11|       6|  nakajima|  [Kazuki, Nakajima]|   Japanese|    \\N|http://en.wikiped...|\n",
      "| BOU|1979-02-28|       7|  bourdais|[Sébastien, Bourd...|     French|    \\N|http://en.wikiped...|\n",
      "| RAI|1979-10-17|       8| raikkonen|   [Kimi, Räikkönen]|    Finnish|     7|http://en.wikiped...|\n",
      "| KUB|1984-12-07|       9|    kubica|    [Robert, Kubica]|     Polish|    88|http://en.wikiped...|\n",
      "| GLO|1982-03-18|      10|     glock|       [Timo, Glock]|     German|    \\N|http://en.wikiped...|\n",
      "| SAT|1977-01-28|      11|      sato|      [Takuma, Sato]|   Japanese|    \\N|http://en.wikiped...|\n",
      "| PIQ|1985-07-25|      12| piquet_jr|[Nelson, Piquet Jr.]|  Brazilian|    \\N|http://en.wikiped...|\n",
      "| MAS|1981-04-25|      13|     massa|     [Felipe, Massa]|  Brazilian|    19|http://en.wikiped...|\n",
      "| COU|1971-03-27|      14| coulthard|  [David, Coulthard]|    British|    \\N|http://en.wikiped...|\n",
      "| TRU|1974-07-13|      15|    trulli|     [Jarno, Trulli]|    Italian|    \\N|http://en.wikiped...|\n",
      "| SUT|1983-01-11|      16|     sutil|     [Adrian, Sutil]|     German|    99|http://en.wikiped...|\n",
      "| WEB|1976-08-27|      17|    webber|      [Mark, Webber]| Australian|    \\N|http://en.wikiped...|\n",
      "| BUT|1980-01-19|      18|    button|    [Jenson, Button]|    British|    22|http://en.wikiped...|\n",
      "| DAV|1979-04-18|      19|  davidson| [Anthony, Davidson]|    British|    \\N|http://en.wikiped...|\n",
      "| VET|1987-07-03|      20|    vettel| [Sebastian, Vettel]|     German|     5|http://en.wikiped...|\n",
      "+----+----------+--------+----------+--------------------+-----------+------+--------------------+\n",
      "only showing top 20 rows\n",
      "\n"
     ]
    }
   ],
   "source": [
    "driver_df = spark.read.json(f\"{raw_path}\\drivers.json\")\n",
    "driver_df.show()"
   ]
  },
  {
   "cell_type": "code",
   "execution_count": 4,
   "id": "96f1e5cf",
   "metadata": {
    "ExecuteTime": {
     "end_time": "2022-06-13T05:05:12.017298Z",
     "start_time": "2022-06-13T05:05:11.991296Z"
    }
   },
   "outputs": [
    {
     "name": "stdout",
     "output_type": "stream",
     "text": [
      "root\n",
      " |-- code: string (nullable = true)\n",
      " |-- dob: string (nullable = true)\n",
      " |-- driverId: long (nullable = true)\n",
      " |-- driverRef: string (nullable = true)\n",
      " |-- name: struct (nullable = true)\n",
      " |    |-- forename: string (nullable = true)\n",
      " |    |-- surname: string (nullable = true)\n",
      " |-- nationality: string (nullable = true)\n",
      " |-- number: string (nullable = true)\n",
      " |-- url: string (nullable = true)\n",
      "\n"
     ]
    }
   ],
   "source": [
    "driver_df.printSchema()"
   ]
  },
  {
   "cell_type": "code",
   "execution_count": 5,
   "id": "cbf75108",
   "metadata": {
    "ExecuteTime": {
     "end_time": "2022-06-13T05:05:12.160592Z",
     "start_time": "2022-06-13T05:05:12.017971Z"
    }
   },
   "outputs": [],
   "source": [
    "driver_df = driver_df.select(col('driverId').alias('driver_Id'),col('driverRef').alias('driver_Ref'),col('name.forename').alias('first_Name')\\\n",
    "                            ,col('name.surname').alias('last_Name'),col('dob'),col('code'),col('number'),col('nationality'))"
   ]
  },
  {
   "cell_type": "code",
   "execution_count": 6,
   "id": "6dd2cef3",
   "metadata": {
    "ExecuteTime": {
     "end_time": "2022-06-13T05:05:12.401397Z",
     "start_time": "2022-06-13T05:05:12.160592Z"
    }
   },
   "outputs": [
    {
     "name": "stdout",
     "output_type": "stream",
     "text": [
      "+---------+----------+----------+----------+----------+----+------+-----------+\n",
      "|driver_Id|driver_Ref|first_Name| last_Name|       dob|code|number|nationality|\n",
      "+---------+----------+----------+----------+----------+----+------+-----------+\n",
      "|        1|  hamilton|     Lewis|  Hamilton|1985-01-07| HAM|    44|    British|\n",
      "|        2|  heidfeld|      Nick|  Heidfeld|1977-05-10| HEI|    \\N|     German|\n",
      "|        3|   rosberg|      Nico|   Rosberg|1985-06-27| ROS|     6|     German|\n",
      "|        4|    alonso|  Fernando|    Alonso|1981-07-29| ALO|    14|    Spanish|\n",
      "|        5|kovalainen|    Heikki|Kovalainen|1981-10-19| KOV|    \\N|    Finnish|\n",
      "|        6|  nakajima|    Kazuki|  Nakajima|1985-01-11| NAK|    \\N|   Japanese|\n",
      "|        7|  bourdais| Sébastien|  Bourdais|1979-02-28| BOU|    \\N|     French|\n",
      "|        8| raikkonen|      Kimi| Räikkönen|1979-10-17| RAI|     7|    Finnish|\n",
      "|        9|    kubica|    Robert|    Kubica|1984-12-07| KUB|    88|     Polish|\n",
      "|       10|     glock|      Timo|     Glock|1982-03-18| GLO|    \\N|     German|\n",
      "|       11|      sato|    Takuma|      Sato|1977-01-28| SAT|    \\N|   Japanese|\n",
      "|       12| piquet_jr|    Nelson|Piquet Jr.|1985-07-25| PIQ|    \\N|  Brazilian|\n",
      "|       13|     massa|    Felipe|     Massa|1981-04-25| MAS|    19|  Brazilian|\n",
      "|       14| coulthard|     David| Coulthard|1971-03-27| COU|    \\N|    British|\n",
      "|       15|    trulli|     Jarno|    Trulli|1974-07-13| TRU|    \\N|    Italian|\n",
      "|       16|     sutil|    Adrian|     Sutil|1983-01-11| SUT|    99|     German|\n",
      "|       17|    webber|      Mark|    Webber|1976-08-27| WEB|    \\N| Australian|\n",
      "|       18|    button|    Jenson|    Button|1980-01-19| BUT|    22|    British|\n",
      "|       19|  davidson|   Anthony|  Davidson|1979-04-18| DAV|    \\N|    British|\n",
      "|       20|    vettel| Sebastian|    Vettel|1987-07-03| VET|     5|     German|\n",
      "+---------+----------+----------+----------+----------+----+------+-----------+\n",
      "only showing top 20 rows\n",
      "\n"
     ]
    }
   ],
   "source": [
    "driver_df.show()"
   ]
  },
  {
   "cell_type": "code",
   "execution_count": 7,
   "id": "72ed7732",
   "metadata": {
    "ExecuteTime": {
     "end_time": "2022-06-13T05:05:12.632724Z",
     "start_time": "2022-06-13T05:05:12.401722Z"
    }
   },
   "outputs": [],
   "source": [
    "driver_df = driver_df.withColumn(\"number\",driver_df.number.cast('int'))\\\n",
    "                    .withColumn('ingestion_Date',current_timestamp())"
   ]
  },
  {
   "cell_type": "code",
   "execution_count": 8,
   "id": "a2b697b0",
   "metadata": {
    "ExecuteTime": {
     "end_time": "2022-06-13T05:05:12.657240Z",
     "start_time": "2022-06-13T05:05:12.634957Z"
    }
   },
   "outputs": [],
   "source": [
    "driver_df = add_timestamp(driver_df)"
   ]
  },
  {
   "cell_type": "code",
   "execution_count": 9,
   "id": "50eeb5de",
   "metadata": {
    "ExecuteTime": {
     "end_time": "2022-06-13T05:05:12.892673Z",
     "start_time": "2022-06-13T05:05:12.657240Z"
    }
   },
   "outputs": [
    {
     "name": "stdout",
     "output_type": "stream",
     "text": [
      "+---------+----------+----------+----------+----------+----+------+-----------+--------------------+\n",
      "|driver_Id|driver_Ref|first_Name| last_Name|       dob|code|number|nationality|      ingestion_Date|\n",
      "+---------+----------+----------+----------+----------+----+------+-----------+--------------------+\n",
      "|        1|  hamilton|     Lewis|  Hamilton|1985-01-07| HAM|    44|    British|2022-06-13 10:35:...|\n",
      "|        2|  heidfeld|      Nick|  Heidfeld|1977-05-10| HEI|  null|     German|2022-06-13 10:35:...|\n",
      "|        3|   rosberg|      Nico|   Rosberg|1985-06-27| ROS|     6|     German|2022-06-13 10:35:...|\n",
      "|        4|    alonso|  Fernando|    Alonso|1981-07-29| ALO|    14|    Spanish|2022-06-13 10:35:...|\n",
      "|        5|kovalainen|    Heikki|Kovalainen|1981-10-19| KOV|  null|    Finnish|2022-06-13 10:35:...|\n",
      "|        6|  nakajima|    Kazuki|  Nakajima|1985-01-11| NAK|  null|   Japanese|2022-06-13 10:35:...|\n",
      "|        7|  bourdais| Sébastien|  Bourdais|1979-02-28| BOU|  null|     French|2022-06-13 10:35:...|\n",
      "|        8| raikkonen|      Kimi| Räikkönen|1979-10-17| RAI|     7|    Finnish|2022-06-13 10:35:...|\n",
      "|        9|    kubica|    Robert|    Kubica|1984-12-07| KUB|    88|     Polish|2022-06-13 10:35:...|\n",
      "|       10|     glock|      Timo|     Glock|1982-03-18| GLO|  null|     German|2022-06-13 10:35:...|\n",
      "|       11|      sato|    Takuma|      Sato|1977-01-28| SAT|  null|   Japanese|2022-06-13 10:35:...|\n",
      "|       12| piquet_jr|    Nelson|Piquet Jr.|1985-07-25| PIQ|  null|  Brazilian|2022-06-13 10:35:...|\n",
      "|       13|     massa|    Felipe|     Massa|1981-04-25| MAS|    19|  Brazilian|2022-06-13 10:35:...|\n",
      "|       14| coulthard|     David| Coulthard|1971-03-27| COU|  null|    British|2022-06-13 10:35:...|\n",
      "|       15|    trulli|     Jarno|    Trulli|1974-07-13| TRU|  null|    Italian|2022-06-13 10:35:...|\n",
      "|       16|     sutil|    Adrian|     Sutil|1983-01-11| SUT|    99|     German|2022-06-13 10:35:...|\n",
      "|       17|    webber|      Mark|    Webber|1976-08-27| WEB|  null| Australian|2022-06-13 10:35:...|\n",
      "|       18|    button|    Jenson|    Button|1980-01-19| BUT|    22|    British|2022-06-13 10:35:...|\n",
      "|       19|  davidson|   Anthony|  Davidson|1979-04-18| DAV|  null|    British|2022-06-13 10:35:...|\n",
      "|       20|    vettel| Sebastian|    Vettel|1987-07-03| VET|     5|     German|2022-06-13 10:35:...|\n",
      "+---------+----------+----------+----------+----------+----+------+-----------+--------------------+\n",
      "only showing top 20 rows\n",
      "\n"
     ]
    }
   ],
   "source": [
    "driver_df.show()"
   ]
  },
  {
   "cell_type": "code",
   "execution_count": 10,
   "id": "d81ddbad",
   "metadata": {
    "ExecuteTime": {
     "end_time": "2022-06-13T05:05:12.958233Z",
     "start_time": "2022-06-13T05:05:12.892673Z"
    }
   },
   "outputs": [],
   "source": [
    "driver_df = driver_df.na.fill(0,['number'])"
   ]
  },
  {
   "cell_type": "code",
   "execution_count": 11,
   "id": "2bbefc78",
   "metadata": {
    "ExecuteTime": {
     "end_time": "2022-06-13T05:05:13.125981Z",
     "start_time": "2022-06-13T05:05:12.958233Z"
    }
   },
   "outputs": [
    {
     "name": "stdout",
     "output_type": "stream",
     "text": [
      "+---------+----------+----------+----------+----------+----+------+-----------+--------------------+\n",
      "|driver_Id|driver_Ref|first_Name| last_Name|       dob|code|number|nationality|      ingestion_Date|\n",
      "+---------+----------+----------+----------+----------+----+------+-----------+--------------------+\n",
      "|        1|  hamilton|     Lewis|  Hamilton|1985-01-07| HAM|    44|    British|2022-06-13 10:35:...|\n",
      "|        2|  heidfeld|      Nick|  Heidfeld|1977-05-10| HEI|     0|     German|2022-06-13 10:35:...|\n",
      "|        3|   rosberg|      Nico|   Rosberg|1985-06-27| ROS|     6|     German|2022-06-13 10:35:...|\n",
      "|        4|    alonso|  Fernando|    Alonso|1981-07-29| ALO|    14|    Spanish|2022-06-13 10:35:...|\n",
      "|        5|kovalainen|    Heikki|Kovalainen|1981-10-19| KOV|     0|    Finnish|2022-06-13 10:35:...|\n",
      "|        6|  nakajima|    Kazuki|  Nakajima|1985-01-11| NAK|     0|   Japanese|2022-06-13 10:35:...|\n",
      "|        7|  bourdais| Sébastien|  Bourdais|1979-02-28| BOU|     0|     French|2022-06-13 10:35:...|\n",
      "|        8| raikkonen|      Kimi| Räikkönen|1979-10-17| RAI|     7|    Finnish|2022-06-13 10:35:...|\n",
      "|        9|    kubica|    Robert|    Kubica|1984-12-07| KUB|    88|     Polish|2022-06-13 10:35:...|\n",
      "|       10|     glock|      Timo|     Glock|1982-03-18| GLO|     0|     German|2022-06-13 10:35:...|\n",
      "|       11|      sato|    Takuma|      Sato|1977-01-28| SAT|     0|   Japanese|2022-06-13 10:35:...|\n",
      "|       12| piquet_jr|    Nelson|Piquet Jr.|1985-07-25| PIQ|     0|  Brazilian|2022-06-13 10:35:...|\n",
      "|       13|     massa|    Felipe|     Massa|1981-04-25| MAS|    19|  Brazilian|2022-06-13 10:35:...|\n",
      "|       14| coulthard|     David| Coulthard|1971-03-27| COU|     0|    British|2022-06-13 10:35:...|\n",
      "|       15|    trulli|     Jarno|    Trulli|1974-07-13| TRU|     0|    Italian|2022-06-13 10:35:...|\n",
      "|       16|     sutil|    Adrian|     Sutil|1983-01-11| SUT|    99|     German|2022-06-13 10:35:...|\n",
      "|       17|    webber|      Mark|    Webber|1976-08-27| WEB|     0| Australian|2022-06-13 10:35:...|\n",
      "|       18|    button|    Jenson|    Button|1980-01-19| BUT|    22|    British|2022-06-13 10:35:...|\n",
      "|       19|  davidson|   Anthony|  Davidson|1979-04-18| DAV|     0|    British|2022-06-13 10:35:...|\n",
      "|       20|    vettel| Sebastian|    Vettel|1987-07-03| VET|     5|     German|2022-06-13 10:35:...|\n",
      "+---------+----------+----------+----------+----------+----+------+-----------+--------------------+\n",
      "only showing top 20 rows\n",
      "\n"
     ]
    }
   ],
   "source": [
    "driver_df.show()"
   ]
  },
  {
   "cell_type": "code",
   "execution_count": 12,
   "id": "82e5285e",
   "metadata": {
    "ExecuteTime": {
     "end_time": "2022-06-13T05:05:14.617620Z",
     "start_time": "2022-06-13T05:05:13.125981Z"
    }
   },
   "outputs": [],
   "source": [
    "driver_df.write.mode('overwrite').parquet(f\"{processed_path}\\Drivers\")"
   ]
  },
  {
   "cell_type": "code",
   "execution_count": null,
   "id": "dc7f0a39",
   "metadata": {},
   "outputs": [],
   "source": []
  }
 ],
 "metadata": {
  "kernelspec": {
   "display_name": "Python 3 (ipykernel)",
   "language": "python",
   "name": "python3"
  },
  "language_info": {
   "codemirror_mode": {
    "name": "ipython",
    "version": 3
   },
   "file_extension": ".py",
   "mimetype": "text/x-python",
   "name": "python",
   "nbconvert_exporter": "python",
   "pygments_lexer": "ipython3",
   "version": "3.9.7"
  }
 },
 "nbformat": 4,
 "nbformat_minor": 5
}
