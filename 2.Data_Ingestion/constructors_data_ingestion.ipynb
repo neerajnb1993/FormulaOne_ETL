{
 "cells": [
  {
   "cell_type": "code",
   "execution_count": 1,
   "id": "89b4b37e",
   "metadata": {
    "ExecuteTime": {
     "end_time": "2022-06-13T04:44:43.527230Z",
     "start_time": "2022-06-13T04:44:43.385797Z"
    }
   },
   "outputs": [],
   "source": [
    "import findspark\n",
    "findspark.init()\n",
    "from pyspark.sql import SparkSession\n",
    "from pyspark.sql.functions import col, lit, current_timestamp, to_timestamp, concat\n",
    "from pyspark.sql.types import StructType, StructField, IntegerType, DoubleType, StringType, DateType, TimestampType\n",
    "from config_file import raw_path, processed_path\n",
    "from common_func import add_timestamp"
   ]
  },
  {
   "cell_type": "code",
   "execution_count": 2,
   "id": "7fdaa03c",
   "metadata": {
    "ExecuteTime": {
     "end_time": "2022-06-13T04:44:50.959697Z",
     "start_time": "2022-06-13T04:44:43.529556Z"
    }
   },
   "outputs": [
    {
     "data": {
      "text/html": [
       "\n",
       "            <div>\n",
       "                <p><b>SparkSession - in-memory</b></p>\n",
       "                \n",
       "        <div>\n",
       "            <p><b>SparkContext</b></p>\n",
       "\n",
       "            <p><a href=\"http://DESKTOP-248N5FB:4042\">Spark UI</a></p>\n",
       "\n",
       "            <dl>\n",
       "              <dt>Version</dt>\n",
       "                <dd><code>v3.0.3</code></dd>\n",
       "              <dt>Master</dt>\n",
       "                <dd><code>local[*]</code></dd>\n",
       "              <dt>AppName</dt>\n",
       "                <dd><code>ETL</code></dd>\n",
       "            </dl>\n",
       "        </div>\n",
       "        \n",
       "            </div>\n",
       "        "
      ],
      "text/plain": [
       "<pyspark.sql.session.SparkSession at 0x254f3cc5d60>"
      ]
     },
     "execution_count": 2,
     "metadata": {},
     "output_type": "execute_result"
    }
   ],
   "source": [
    "spark = SparkSession.builder.appName('ETL').getOrCreate()\n",
    "spark"
   ]
  },
  {
   "cell_type": "markdown",
   "id": "02712bc7",
   "metadata": {},
   "source": [
    "## Constructors Data Ingestion"
   ]
  },
  {
   "cell_type": "code",
   "execution_count": 3,
   "id": "811532a5",
   "metadata": {
    "ExecuteTime": {
     "end_time": "2022-06-13T04:44:55.171587Z",
     "start_time": "2022-06-13T04:44:50.959697Z"
    }
   },
   "outputs": [
    {
     "name": "stdout",
     "output_type": "stream",
     "text": [
      "+-------------+--------------+-----------+-----------+--------------------+\n",
      "|constructorId|constructorRef|       name|nationality|                 url|\n",
      "+-------------+--------------+-----------+-----------+--------------------+\n",
      "|            1|       mclaren|    McLaren|    British|http://en.wikiped...|\n",
      "|            2|    bmw_sauber| BMW Sauber|     German|http://en.wikiped...|\n",
      "|            3|      williams|   Williams|    British|http://en.wikiped...|\n",
      "|            4|       renault|    Renault|     French|http://en.wikiped...|\n",
      "|            5|    toro_rosso| Toro Rosso|    Italian|http://en.wikiped...|\n",
      "|            6|       ferrari|    Ferrari|    Italian|http://en.wikiped...|\n",
      "|            7|        toyota|     Toyota|   Japanese|http://en.wikiped...|\n",
      "|            8|   super_aguri|Super Aguri|   Japanese|http://en.wikiped...|\n",
      "|            9|      red_bull|   Red Bull|   Austrian|http://en.wikiped...|\n",
      "|           10|   force_india|Force India|     Indian|http://en.wikiped...|\n",
      "|           11|         honda|      Honda|   Japanese|http://en.wikiped...|\n",
      "|           12|        spyker|     Spyker|      Dutch|http://en.wikiped...|\n",
      "|           13|           mf1|        MF1|    Russian|http://en.wikiped...|\n",
      "|           14|    spyker_mf1| Spyker MF1|      Dutch|http://en.wikiped...|\n",
      "|           15|        sauber|     Sauber|      Swiss|http://en.wikiped...|\n",
      "|           16|           bar|        BAR|    British|http://en.wikiped...|\n",
      "|           17|        jordan|     Jordan|      Irish|http://en.wikiped...|\n",
      "|           18|       minardi|    Minardi|    Italian|http://en.wikiped...|\n",
      "|           19|        jaguar|     Jaguar|    British|http://en.wikiped...|\n",
      "|           20|         prost|      Prost|     French|http://en.wikiped...|\n",
      "+-------------+--------------+-----------+-----------+--------------------+\n",
      "only showing top 20 rows\n",
      "\n"
     ]
    }
   ],
   "source": [
    "constructor_df = spark.read.json(f\"{raw_path}\\constructors.json\")\n",
    "constructor_df.show()"
   ]
  },
  {
   "cell_type": "code",
   "execution_count": 4,
   "id": "62a01ffe",
   "metadata": {
    "ExecuteTime": {
     "end_time": "2022-06-13T04:44:55.200691Z",
     "start_time": "2022-06-13T04:44:55.171587Z"
    }
   },
   "outputs": [
    {
     "name": "stdout",
     "output_type": "stream",
     "text": [
      "root\n",
      " |-- constructorId: long (nullable = true)\n",
      " |-- constructorRef: string (nullable = true)\n",
      " |-- name: string (nullable = true)\n",
      " |-- nationality: string (nullable = true)\n",
      " |-- url: string (nullable = true)\n",
      "\n"
     ]
    }
   ],
   "source": [
    "constructor_df.printSchema()"
   ]
  },
  {
   "cell_type": "code",
   "execution_count": 5,
   "id": "8fe0dd58",
   "metadata": {
    "ExecuteTime": {
     "end_time": "2022-06-13T04:44:55.250364Z",
     "start_time": "2022-06-13T04:44:55.200691Z"
    }
   },
   "outputs": [],
   "source": [
    "constructor_df = add_timestamp(constructor_df)"
   ]
  },
  {
   "cell_type": "code",
   "execution_count": 6,
   "id": "b4b7ad24",
   "metadata": {
    "ExecuteTime": {
     "end_time": "2022-06-13T04:44:55.300536Z",
     "start_time": "2022-06-13T04:44:55.250364Z"
    }
   },
   "outputs": [],
   "source": [
    "constructor_df = constructor_df.select(col('constructorId').alias('constructor_Id')\\\n",
    "                                      ,col('constructorRef').alias('constructor_Ref')\\\n",
    "                                      ,col('name'),col('nationality'),col('ingestion_Date'))"
   ]
  },
  {
   "cell_type": "code",
   "execution_count": 7,
   "id": "49d1ad11",
   "metadata": {
    "ExecuteTime": {
     "end_time": "2022-06-13T04:44:55.542046Z",
     "start_time": "2022-06-13T04:44:55.300536Z"
    }
   },
   "outputs": [
    {
     "name": "stdout",
     "output_type": "stream",
     "text": [
      "+--------------+---------------+-----------+-----------+--------------------+\n",
      "|constructor_Id|constructor_Ref|       name|nationality|      ingestion_Date|\n",
      "+--------------+---------------+-----------+-----------+--------------------+\n",
      "|             1|        mclaren|    McLaren|    British|2022-06-13 10:14:...|\n",
      "|             2|     bmw_sauber| BMW Sauber|     German|2022-06-13 10:14:...|\n",
      "|             3|       williams|   Williams|    British|2022-06-13 10:14:...|\n",
      "|             4|        renault|    Renault|     French|2022-06-13 10:14:...|\n",
      "|             5|     toro_rosso| Toro Rosso|    Italian|2022-06-13 10:14:...|\n",
      "|             6|        ferrari|    Ferrari|    Italian|2022-06-13 10:14:...|\n",
      "|             7|         toyota|     Toyota|   Japanese|2022-06-13 10:14:...|\n",
      "|             8|    super_aguri|Super Aguri|   Japanese|2022-06-13 10:14:...|\n",
      "|             9|       red_bull|   Red Bull|   Austrian|2022-06-13 10:14:...|\n",
      "|            10|    force_india|Force India|     Indian|2022-06-13 10:14:...|\n",
      "|            11|          honda|      Honda|   Japanese|2022-06-13 10:14:...|\n",
      "|            12|         spyker|     Spyker|      Dutch|2022-06-13 10:14:...|\n",
      "|            13|            mf1|        MF1|    Russian|2022-06-13 10:14:...|\n",
      "|            14|     spyker_mf1| Spyker MF1|      Dutch|2022-06-13 10:14:...|\n",
      "|            15|         sauber|     Sauber|      Swiss|2022-06-13 10:14:...|\n",
      "|            16|            bar|        BAR|    British|2022-06-13 10:14:...|\n",
      "|            17|         jordan|     Jordan|      Irish|2022-06-13 10:14:...|\n",
      "|            18|        minardi|    Minardi|    Italian|2022-06-13 10:14:...|\n",
      "|            19|         jaguar|     Jaguar|    British|2022-06-13 10:14:...|\n",
      "|            20|          prost|      Prost|     French|2022-06-13 10:14:...|\n",
      "+--------------+---------------+-----------+-----------+--------------------+\n",
      "only showing top 20 rows\n",
      "\n"
     ]
    }
   ],
   "source": [
    "constructor_df.show()"
   ]
  },
  {
   "cell_type": "code",
   "execution_count": 8,
   "id": "43f117c9",
   "metadata": {
    "ExecuteTime": {
     "end_time": "2022-06-13T04:44:56.924681Z",
     "start_time": "2022-06-13T04:44:55.544303Z"
    }
   },
   "outputs": [],
   "source": [
    "constructor_df.write.mode('overwrite').parquet(f\"{processed_path}\\Constructors\")"
   ]
  },
  {
   "cell_type": "code",
   "execution_count": null,
   "id": "cde616f6",
   "metadata": {},
   "outputs": [],
   "source": []
  }
 ],
 "metadata": {
  "kernelspec": {
   "display_name": "Python 3 (ipykernel)",
   "language": "python",
   "name": "python3"
  },
  "language_info": {
   "codemirror_mode": {
    "name": "ipython",
    "version": 3
   },
   "file_extension": ".py",
   "mimetype": "text/x-python",
   "name": "python",
   "nbconvert_exporter": "python",
   "pygments_lexer": "ipython3",
   "version": "3.9.7"
  }
 },
 "nbformat": 4,
 "nbformat_minor": 5
}
