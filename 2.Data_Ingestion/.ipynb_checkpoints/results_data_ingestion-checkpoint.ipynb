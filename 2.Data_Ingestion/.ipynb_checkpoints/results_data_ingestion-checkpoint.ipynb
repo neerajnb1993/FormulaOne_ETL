{
 "cells": [
  {
   "cell_type": "code",
   "execution_count": 1,
   "id": "436e6c29",
   "metadata": {
    "ExecuteTime": {
     "end_time": "2022-06-13T05:22:30.868699Z",
     "start_time": "2022-06-13T05:22:30.758723Z"
    }
   },
   "outputs": [],
   "source": [
    "import findspark\n",
    "findspark.init()\n",
    "from pyspark.sql import SparkSession\n",
    "from pyspark.sql.functions import col, lit, current_timestamp, to_timestamp, concat\n",
    "from config_file import raw_path, processed_path\n",
    "from common_func import add_timestamp"
   ]
  },
  {
   "cell_type": "code",
   "execution_count": 2,
   "id": "1b2b7cbc",
   "metadata": {
    "ExecuteTime": {
     "end_time": "2022-06-13T05:22:37.682010Z",
     "start_time": "2022-06-13T05:22:30.868699Z"
    }
   },
   "outputs": [
    {
     "data": {
      "text/html": [
       "\n",
       "            <div>\n",
       "                <p><b>SparkSession - in-memory</b></p>\n",
       "                \n",
       "        <div>\n",
       "            <p><b>SparkContext</b></p>\n",
       "\n",
       "            <p><a href=\"http://DESKTOP-248N5FB:4044\">Spark UI</a></p>\n",
       "\n",
       "            <dl>\n",
       "              <dt>Version</dt>\n",
       "                <dd><code>v3.0.3</code></dd>\n",
       "              <dt>Master</dt>\n",
       "                <dd><code>local[*]</code></dd>\n",
       "              <dt>AppName</dt>\n",
       "                <dd><code>ETL</code></dd>\n",
       "            </dl>\n",
       "        </div>\n",
       "        \n",
       "            </div>\n",
       "        "
      ],
      "text/plain": [
       "<pyspark.sql.session.SparkSession at 0x1f39dee9d00>"
      ]
     },
     "execution_count": 2,
     "metadata": {},
     "output_type": "execute_result"
    }
   ],
   "source": [
    "spark = SparkSession.builder.appName('ETL').getOrCreate()\n",
    "spark"
   ]
  },
  {
   "cell_type": "markdown",
   "id": "94fd2395",
   "metadata": {},
   "source": [
    "## Results Data Ingestion"
   ]
  },
  {
   "cell_type": "code",
   "execution_count": 3,
   "id": "c1bdbd88",
   "metadata": {
    "ExecuteTime": {
     "end_time": "2022-06-13T05:22:42.187249Z",
     "start_time": "2022-06-13T05:22:37.682010Z"
    }
   },
   "outputs": [
    {
     "name": "stdout",
     "output_type": "stream",
     "text": [
      "+-------------+--------+----------+---------------+--------------+----+----+------------+------+------+--------+-------------+------------+------+----+--------+--------+-----------+\n",
      "|constructorId|driverId|fastestLap|fastestLapSpeed|fastestLapTime|grid|laps|milliseconds|number|points|position|positionOrder|positionText|raceId|rank|resultId|statusId|       time|\n",
      "+-------------+--------+----------+---------------+--------------+----+----+------------+------+------+--------+-------------+------------+------+----+--------+--------+-----------+\n",
      "|            1|       1|        39|          218.3|      1:27.452|   1|  58|     5690616|    22|  10.0|       1|            1|           1|    18|   2|       1|       1|1:34:50.616|\n",
      "|            2|       2|        41|        217.586|      1:27.739|   5|  58|     5696094|     3|   8.0|       2|            2|           2|    18|   3|       2|       1|     +5.478|\n",
      "|            3|       3|        41|        216.719|      1:28.090|   7|  58|     5698779|     7|   6.0|       3|            3|           3|    18|   5|       3|       1|     +8.163|\n",
      "|            4|       4|        58|        215.464|      1:28.603|  11|  58|     5707797|     5|   5.0|       4|            4|           4|    18|   7|       4|       1|    +17.181|\n",
      "|            1|       5|        43|        218.385|      1:27.418|   3|  58|     5708630|    23|   4.0|       5|            5|           5|    18|   1|       5|       1|    +18.014|\n",
      "|            3|       6|        50|        212.974|      1:29.639|  13|  57|          \\N|     8|   3.0|       6|            6|           6|    18|  14|       6|      11|         \\N|\n",
      "|            5|       7|        22|        213.224|      1:29.534|  17|  55|          \\N|    14|   2.0|       7|            7|           7|    18|  12|       7|       5|         \\N|\n",
      "|            6|       8|        20|         217.18|      1:27.903|  15|  53|          \\N|     1|   1.0|       8|            8|           8|    18|   4|       8|       5|         \\N|\n",
      "|            2|       9|        15|          215.1|      1:28.753|   2|  47|          \\N|     4|   0.0|      \\N|            9|           R|    18|   9|       9|       4|         \\N|\n",
      "|            7|      10|        23|        213.166|      1:29.558|  18|  43|          \\N|    12|   0.0|      \\N|           10|           R|    18|  13|      10|       3|         \\N|\n",
      "|            8|      11|        24|        210.038|      1:30.892|  19|  32|          \\N|    18|   0.0|      \\N|           11|           R|    18|  15|      11|       7|         \\N|\n",
      "|            4|      12|        20|        208.907|      1:31.384|  20|  30|          \\N|     6|   0.0|      \\N|           12|           R|    18|  16|      12|       8|         \\N|\n",
      "|            6|      13|        23|         216.51|      1:28.175|   4|  29|          \\N|     2|   0.0|      \\N|           13|           R|    18|   6|      13|       5|         \\N|\n",
      "|            9|      14|        21|          213.3|      1:29.502|   8|  25|          \\N|     9|   0.0|      \\N|           14|           R|    18|  11|      14|       4|         \\N|\n",
      "|            7|      15|        18|        213.758|      1:29.310|   6|  19|          \\N|    11|   0.0|      \\N|           15|           R|    18|  10|      15|      10|         \\N|\n",
      "|           10|      16|         8|        207.461|      1:32.021|  22|   8|          \\N|    20|   0.0|      \\N|           16|           R|    18|  17|      16|       9|         \\N|\n",
      "|            9|      17|        \\N|             \\N|            \\N|  14|   0|          \\N|    10|   0.0|      \\N|           17|           R|    18|  \\N|      17|       4|         \\N|\n",
      "|           11|      18|        \\N|             \\N|            \\N|  12|   0|          \\N|    16|   0.0|      \\N|           18|           R|    18|  \\N|      18|       4|         \\N|\n",
      "|            8|      19|        \\N|             \\N|            \\N|  21|   0|          \\N|    19|   0.0|      \\N|           19|           R|    18|  \\N|      19|       4|         \\N|\n",
      "|            5|      20|        \\N|             \\N|            \\N|   9|   0|          \\N|    15|   0.0|      \\N|           20|           R|    18|  \\N|      20|       4|         \\N|\n",
      "+-------------+--------+----------+---------------+--------------+----+----+------------+------+------+--------+-------------+------------+------+----+--------+--------+-----------+\n",
      "only showing top 20 rows\n",
      "\n"
     ]
    }
   ],
   "source": [
    "result_df = spark.read.json(f\"{raw_path}/results.json\")\n",
    "result_df.show()"
   ]
  },
  {
   "cell_type": "code",
   "execution_count": 4,
   "id": "34a15210",
   "metadata": {
    "ExecuteTime": {
     "end_time": "2022-06-13T05:22:42.203651Z",
     "start_time": "2022-06-13T05:22:42.187249Z"
    }
   },
   "outputs": [
    {
     "name": "stdout",
     "output_type": "stream",
     "text": [
      "root\n",
      " |-- constructorId: long (nullable = true)\n",
      " |-- driverId: long (nullable = true)\n",
      " |-- fastestLap: string (nullable = true)\n",
      " |-- fastestLapSpeed: string (nullable = true)\n",
      " |-- fastestLapTime: string (nullable = true)\n",
      " |-- grid: long (nullable = true)\n",
      " |-- laps: long (nullable = true)\n",
      " |-- milliseconds: string (nullable = true)\n",
      " |-- number: string (nullable = true)\n",
      " |-- points: double (nullable = true)\n",
      " |-- position: string (nullable = true)\n",
      " |-- positionOrder: long (nullable = true)\n",
      " |-- positionText: string (nullable = true)\n",
      " |-- raceId: long (nullable = true)\n",
      " |-- rank: string (nullable = true)\n",
      " |-- resultId: long (nullable = true)\n",
      " |-- statusId: long (nullable = true)\n",
      " |-- time: string (nullable = true)\n",
      "\n"
     ]
    }
   ],
   "source": [
    "result_df.printSchema()"
   ]
  },
  {
   "cell_type": "code",
   "execution_count": 5,
   "id": "010ea373",
   "metadata": {
    "ExecuteTime": {
     "end_time": "2022-06-13T05:22:42.317211Z",
     "start_time": "2022-06-13T05:22:42.205045Z"
    }
   },
   "outputs": [],
   "source": [
    "result_df = result_df.withColumnRenamed('constructorId','constructor_Id')\\\n",
    "                    .withColumnRenamed('driverId','driver_Id')\\\n",
    "                    .withColumnRenamed('raceId','race_Id')\\\n",
    "                    .withColumnRenamed('resultId','result_Id')\\\n",
    "                    .withColumnRenamed('statusId','status_Id')\\\n",
    "                    .withColumnRenamed('fastestLap','fastest_Lap')\\\n",
    "                    .withColumnRenamed('fastestLapSpeed','fastest_Lap_Speed')\\\n",
    "                    .withColumnRenamed('fastestLapTime','fastest_Lap_Time')\\\n",
    "                    .withColumnRenamed('positionOrder','position_Order')\\\n",
    "                    .withColumnRenamed('positionText','position_Text')"
   ]
  },
  {
   "cell_type": "code",
   "execution_count": 6,
   "id": "9a1152a2",
   "metadata": {
    "ExecuteTime": {
     "end_time": "2022-06-13T05:22:42.379757Z",
     "start_time": "2022-06-13T05:22:42.317211Z"
    }
   },
   "outputs": [],
   "source": [
    "result_df = add_timestamp(result_df)"
   ]
  },
  {
   "cell_type": "code",
   "execution_count": 7,
   "id": "77b7f47d",
   "metadata": {
    "ExecuteTime": {
     "end_time": "2022-06-13T05:22:42.724197Z",
     "start_time": "2022-06-13T05:22:42.379757Z"
    }
   },
   "outputs": [],
   "source": [
    "result_df = result_df.withColumn('fastest_Lap',result_df.fastest_Lap.cast('int'))\\\n",
    "                    .withColumn('fastest_Lap_Speed',result_df.fastest_Lap_Speed.cast('float'))\\\n",
    "                    .withColumn('number',result_df.number.cast('int'))\\\n",
    "                    .withColumn('position',result_df.position.cast('int'))\\\n",
    "                    .withColumn('rank',result_df.rank.cast('int'))\\\n",
    "                    .withColumn('milliseconds',result_df.milliseconds.cast('int'))"
   ]
  },
  {
   "cell_type": "code",
   "execution_count": 8,
   "id": "f1132268",
   "metadata": {
    "ExecuteTime": {
     "end_time": "2022-06-13T05:22:42.746847Z",
     "start_time": "2022-06-13T05:22:42.724197Z"
    }
   },
   "outputs": [
    {
     "name": "stdout",
     "output_type": "stream",
     "text": [
      "root\n",
      " |-- constructor_Id: long (nullable = true)\n",
      " |-- driver_Id: long (nullable = true)\n",
      " |-- fastest_Lap: integer (nullable = true)\n",
      " |-- fastest_Lap_Speed: float (nullable = true)\n",
      " |-- fastest_Lap_Time: string (nullable = true)\n",
      " |-- grid: long (nullable = true)\n",
      " |-- laps: long (nullable = true)\n",
      " |-- milliseconds: integer (nullable = true)\n",
      " |-- number: integer (nullable = true)\n",
      " |-- points: double (nullable = true)\n",
      " |-- position: integer (nullable = true)\n",
      " |-- position_Order: long (nullable = true)\n",
      " |-- position_Text: string (nullable = true)\n",
      " |-- race_Id: long (nullable = true)\n",
      " |-- rank: integer (nullable = true)\n",
      " |-- result_Id: long (nullable = true)\n",
      " |-- status_Id: long (nullable = true)\n",
      " |-- time: string (nullable = true)\n",
      " |-- ingestion_Date: timestamp (nullable = false)\n",
      "\n"
     ]
    }
   ],
   "source": [
    "result_df.printSchema()"
   ]
  },
  {
   "cell_type": "code",
   "execution_count": 9,
   "id": "32aa0f54",
   "metadata": {
    "ExecuteTime": {
     "end_time": "2022-06-13T05:22:42.764397Z",
     "start_time": "2022-06-13T05:22:42.748358Z"
    }
   },
   "outputs": [],
   "source": [
    "result_df = result_df.drop('status_Id')"
   ]
  },
  {
   "cell_type": "code",
   "execution_count": 10,
   "id": "1af1025b",
   "metadata": {
    "ExecuteTime": {
     "end_time": "2022-06-13T05:23:58.094851Z",
     "start_time": "2022-06-13T05:22:42.764397Z"
    }
   },
   "outputs": [],
   "source": [
    "result_df.write.mode('overwrite').partitionBy('race_Id').parquet(f\"{processed_path}\\Results\")"
   ]
  },
  {
   "cell_type": "code",
   "execution_count": null,
   "id": "2b3e126e",
   "metadata": {},
   "outputs": [],
   "source": []
  }
 ],
 "metadata": {
  "kernelspec": {
   "display_name": "Python 3 (ipykernel)",
   "language": "python",
   "name": "python3"
  },
  "language_info": {
   "codemirror_mode": {
    "name": "ipython",
    "version": 3
   },
   "file_extension": ".py",
   "mimetype": "text/x-python",
   "name": "python",
   "nbconvert_exporter": "python",
   "pygments_lexer": "ipython3",
   "version": "3.9.7"
  }
 },
 "nbformat": 4,
 "nbformat_minor": 5
}
