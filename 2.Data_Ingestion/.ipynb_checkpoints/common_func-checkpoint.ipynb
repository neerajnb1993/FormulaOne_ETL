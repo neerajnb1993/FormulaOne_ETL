{
 "cells": [
  {
   "cell_type": "code",
   "execution_count": 1,
   "id": "9d62783e",
   "metadata": {
    "ExecuteTime": {
     "end_time": "2022-06-13T04:29:46.216323Z",
     "start_time": "2022-06-13T04:29:46.076746Z"
    }
   },
   "outputs": [],
   "source": [
    "import findspark\n",
    "findspark.init()\n",
    "from pyspark.sql.functions import current_timestamp"
   ]
  },
  {
   "cell_type": "code",
   "execution_count": 2,
   "id": "939346f6",
   "metadata": {
    "ExecuteTime": {
     "end_time": "2022-06-13T04:31:07.029629Z",
     "start_time": "2022-06-13T04:31:07.021581Z"
    }
   },
   "outputs": [],
   "source": [
    "def add_timestamp(input_df):\n",
    "    input_df = input_df.withcolumn('ingestion_Date',current_timestamp())\n",
    "    \n",
    "    return input_df"
   ]
  },
  {
   "cell_type": "code",
   "execution_count": null,
   "id": "5e020cc4",
   "metadata": {},
   "outputs": [],
   "source": []
  }
 ],
 "metadata": {
  "kernelspec": {
   "display_name": "Python 3 (ipykernel)",
   "language": "python",
   "name": "python3"
  },
  "language_info": {
   "codemirror_mode": {
    "name": "ipython",
    "version": 3
   },
   "file_extension": ".py",
   "mimetype": "text/x-python",
   "name": "python",
   "nbconvert_exporter": "python",
   "pygments_lexer": "ipython3",
   "version": "3.9.7"
  }
 },
 "nbformat": 4,
 "nbformat_minor": 5
}
