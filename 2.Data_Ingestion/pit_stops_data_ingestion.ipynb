{
 "cells": [
  {
   "cell_type": "code",
   "execution_count": 1,
   "id": "8bfaf6b7",
   "metadata": {
    "ExecuteTime": {
     "end_time": "2022-06-13T05:13:14.208387Z",
     "start_time": "2022-06-13T05:13:14.089348Z"
    }
   },
   "outputs": [],
   "source": [
    "import findspark\n",
    "findspark.init()\n",
    "from pyspark.sql import SparkSession\n",
    "from pyspark.sql.functions import col, lit, current_timestamp, to_timestamp, concat\n",
    "from config_file import raw_path, processed_path\n",
    "from common_func import add_timestamp"
   ]
  },
  {
   "cell_type": "code",
   "execution_count": 2,
   "id": "d783021d",
   "metadata": {
    "ExecuteTime": {
     "end_time": "2022-06-13T05:13:21.853574Z",
     "start_time": "2022-06-13T05:13:14.208387Z"
    }
   },
   "outputs": [
    {
     "data": {
      "text/html": [
       "\n",
       "            <div>\n",
       "                <p><b>SparkSession - in-memory</b></p>\n",
       "                \n",
       "        <div>\n",
       "            <p><b>SparkContext</b></p>\n",
       "\n",
       "            <p><a href=\"http://DESKTOP-248N5FB:4045\">Spark UI</a></p>\n",
       "\n",
       "            <dl>\n",
       "              <dt>Version</dt>\n",
       "                <dd><code>v3.0.3</code></dd>\n",
       "              <dt>Master</dt>\n",
       "                <dd><code>local[*]</code></dd>\n",
       "              <dt>AppName</dt>\n",
       "                <dd><code>ETL</code></dd>\n",
       "            </dl>\n",
       "        </div>\n",
       "        \n",
       "            </div>\n",
       "        "
      ],
      "text/plain": [
       "<pyspark.sql.session.SparkSession at 0x2155b879dc0>"
      ]
     },
     "execution_count": 2,
     "metadata": {},
     "output_type": "execute_result"
    }
   ],
   "source": [
    "spark = SparkSession.builder.appName('ETL').getOrCreate()\n",
    "spark"
   ]
  },
  {
   "cell_type": "markdown",
   "id": "f7fc24d3",
   "metadata": {},
   "source": [
    "## Pit Stops Data Ingestion"
   ]
  },
  {
   "cell_type": "code",
   "execution_count": 3,
   "id": "f2bdf163",
   "metadata": {
    "ExecuteTime": {
     "end_time": "2022-06-13T05:13:27.860405Z",
     "start_time": "2022-06-13T05:13:21.854783Z"
    }
   },
   "outputs": [
    {
     "name": "stdout",
     "output_type": "stream",
     "text": [
      "+--------+--------+---+------------+------+----+--------+\n",
      "|driverId|duration|lap|milliseconds|raceId|stop|    time|\n",
      "+--------+--------+---+------------+------+----+--------+\n",
      "|     153|  26.898|  1|       26898|   841|   1|17:05:23|\n",
      "|      30|  25.021|  1|       25021|   841|   1|17:05:52|\n",
      "|      17|  23.426| 11|       23426|   841|   1|17:20:48|\n",
      "|       4|  23.251| 12|       23251|   841|   1|17:22:34|\n",
      "|      13|  23.842| 13|       23842|   841|   1|17:24:10|\n",
      "|      22|  23.643| 13|       23643|   841|   1|17:24:29|\n",
      "|      20|  22.603| 14|       22603|   841|   1|17:25:17|\n",
      "|     814|  24.863| 14|       24863|   841|   1|17:26:03|\n",
      "|     816|  25.259| 14|       25259|   841|   1|17:26:50|\n",
      "|      67|  25.342| 15|       25342|   841|   1|17:27:34|\n",
      "|       2|  22.994| 15|       22994|   841|   1|17:27:41|\n",
      "|       1|  23.227| 16|       23227|   841|   1|17:28:24|\n",
      "|     808|  24.535| 16|       24535|   841|   1|17:28:39|\n",
      "|       3|  23.716| 16|       23716|   841|   1|17:29:00|\n",
      "|     155|  24.064| 16|       24064|   841|   1|17:29:06|\n",
      "|      16|  25.978| 16|       25978|   841|   1|17:29:08|\n",
      "|      15|  24.899| 16|       24899|   841|   1|17:29:49|\n",
      "|      18|  16.867| 17|       16867|   841|   1|17:30:24|\n",
      "|     153|  24.463| 17|       24463|   841|   2|17:31:06|\n",
      "|       5|  24.865| 17|       24865|   841|   1|17:31:11|\n",
      "+--------+--------+---+------------+------+----+--------+\n",
      "only showing top 20 rows\n",
      "\n"
     ]
    }
   ],
   "source": [
    "pit_stop_df = spark.read.json(f\"{raw_path}\\pit_stops.json\",multiLine=True)\n",
    "pit_stop_df.show()"
   ]
  },
  {
   "cell_type": "code",
   "execution_count": 4,
   "id": "e4885baa",
   "metadata": {
    "ExecuteTime": {
     "end_time": "2022-06-13T05:13:27.891234Z",
     "start_time": "2022-06-13T05:13:27.860405Z"
    }
   },
   "outputs": [
    {
     "name": "stdout",
     "output_type": "stream",
     "text": [
      "root\n",
      " |-- driverId: long (nullable = true)\n",
      " |-- duration: string (nullable = true)\n",
      " |-- lap: long (nullable = true)\n",
      " |-- milliseconds: long (nullable = true)\n",
      " |-- raceId: long (nullable = true)\n",
      " |-- stop: long (nullable = true)\n",
      " |-- time: string (nullable = true)\n",
      "\n"
     ]
    }
   ],
   "source": [
    "pit_stop_df.printSchema()"
   ]
  },
  {
   "cell_type": "code",
   "execution_count": 5,
   "id": "eef2882e",
   "metadata": {
    "ExecuteTime": {
     "end_time": "2022-06-13T05:13:28.140970Z",
     "start_time": "2022-06-13T05:13:27.891234Z"
    }
   },
   "outputs": [],
   "source": [
    "pit_stop_df = pit_stop_df.withColumn('duration',pit_stop_df.duration.cast('float'))\\\n",
    "                        .withColumnRenamed('driverId','driver_Id')\\\n",
    "                        .withColumnRenamed('raceId','race_Id')"
   ]
  },
  {
   "cell_type": "code",
   "execution_count": 6,
   "id": "87f463d5",
   "metadata": {
    "ExecuteTime": {
     "end_time": "2022-06-13T05:13:28.214604Z",
     "start_time": "2022-06-13T05:13:28.144863Z"
    }
   },
   "outputs": [],
   "source": [
    "pit_stop_df = add_timestamp(pit_stop_df)"
   ]
  },
  {
   "cell_type": "code",
   "execution_count": 7,
   "id": "547071ef",
   "metadata": {
    "ExecuteTime": {
     "end_time": "2022-06-13T05:13:29.597870Z",
     "start_time": "2022-06-13T05:13:28.218841Z"
    }
   },
   "outputs": [],
   "source": [
    "pit_stop_df.write.mode('overwrite').parquet(f\"{processed_path}\\Pit_Stop\")"
   ]
  },
  {
   "cell_type": "code",
   "execution_count": null,
   "id": "49de0a65",
   "metadata": {},
   "outputs": [],
   "source": []
  }
 ],
 "metadata": {
  "kernelspec": {
   "display_name": "Python 3 (ipykernel)",
   "language": "python",
   "name": "python3"
  },
  "language_info": {
   "codemirror_mode": {
    "name": "ipython",
    "version": 3
   },
   "file_extension": ".py",
   "mimetype": "text/x-python",
   "name": "python",
   "nbconvert_exporter": "python",
   "pygments_lexer": "ipython3",
   "version": "3.9.7"
  }
 },
 "nbformat": 4,
 "nbformat_minor": 5
}
